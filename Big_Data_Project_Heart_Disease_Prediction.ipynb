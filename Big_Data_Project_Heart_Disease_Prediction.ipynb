{
  "nbformat": 4,
  "nbformat_minor": 0,
  "metadata": {
    "colab": {
      "provenance": [],
      "authorship_tag": "ABX9TyMEbYb7evRIeHIAdZ28K3be",
      "include_colab_link": true
    },
    "kernelspec": {
      "name": "python3",
      "display_name": "Python 3"
    },
    "language_info": {
      "name": "python"
    }
  },
  "cells": [
    {
      "cell_type": "markdown",
      "metadata": {
        "id": "view-in-github",
        "colab_type": "text"
      },
      "source": [
        "<a href=\"https://colab.research.google.com/github/saaaady/Big-Data-Heart-Disease-Prediction/blob/main/Big_Data_Project_Heart_Disease_Prediction.ipynb\" target=\"_parent\"><img src=\"https://colab.research.google.com/assets/colab-badge.svg\" alt=\"Open In Colab\"/></a>"
      ]
    },
    {
      "cell_type": "markdown",
      "source": [
        "# **Heart Disease Prediction - Big Data**"
      ],
      "metadata": {
        "id": "9kGYQU66i3Mm"
      }
    },
    {
      "cell_type": "markdown",
      "source": [
        "## **Creating a Spark Session and reading the CSVs**\n",
        "\n",
        "Two .csv files will be imported from the Github repository.\n",
        "The data will be cleaned and then the model will be trained/tested on\n",
        "\"Cardiac Health Dataset.csv\".\n",
        "Then the model will be tested on the \"FIC Heart Conditions Dataset.csv\" dataset."
      ],
      "metadata": {
        "id": "Gndcq4L5ZaNm"
      }
    },
    {
      "cell_type": "code",
      "source": [
        "from pyspark.sql import SparkSession\n",
        "from pyspark.sql.types import IntegerType\n",
        "from pyspark.ml.feature import VectorAssembler"
      ],
      "metadata": {
        "id": "6KfJpNDgIiD2"
      },
      "execution_count": 1,
      "outputs": []
    },
    {
      "cell_type": "code",
      "source": [
        "spark=SparkSession.builder.appName(\"Project\").getOrCreate()"
      ],
      "metadata": {
        "id": "YzZJRMnQZik1"
      },
      "execution_count": 2,
      "outputs": []
    },
    {
      "cell_type": "code",
      "source": [
        "! git clone https://github.com/saaaady/Big-Data-Heart-Disease-Prediction"
      ],
      "metadata": {
        "colab": {
          "base_uri": "https://localhost:8080/"
        },
        "id": "SpIrwCD8Z6sC",
        "outputId": "657ac4ea-2f59-424a-e403-0e8344777df7"
      },
      "execution_count": 3,
      "outputs": [
        {
          "output_type": "stream",
          "name": "stdout",
          "text": [
            "Cloning into 'Big-Data-Heart-Disease-Prediction'...\n",
            "remote: Enumerating objects: 21, done.\u001b[K\n",
            "remote: Counting objects: 100% (21/21), done.\u001b[K\n",
            "remote: Compressing objects: 100% (20/20), done.\u001b[K\n",
            "remote: Total 21 (delta 2), reused 0 (delta 0), pack-reused 0 (from 0)\u001b[K\n",
            "Receiving objects: 100% (21/21), 28.10 KiB | 5.62 MiB/s, done.\n",
            "Resolving deltas: 100% (2/2), done.\n"
          ]
        }
      ]
    },
    {
      "cell_type": "code",
      "source": [
        "ls"
      ],
      "metadata": {
        "colab": {
          "base_uri": "https://localhost:8080/"
        },
        "id": "lavOwn2VlRJp",
        "outputId": "74e04e22-2544-48a2-c651-e542a3c57c8f"
      },
      "execution_count": 4,
      "outputs": [
        {
          "output_type": "stream",
          "name": "stdout",
          "text": [
            "\u001b[0m\u001b[01;34mBig-Data-Heart-Disease-Prediction\u001b[0m/  \u001b[01;34msample_data\u001b[0m/\n"
          ]
        }
      ]
    },
    {
      "cell_type": "code",
      "source": [
        "cd Big-Data-Heart-Disease-Prediction/"
      ],
      "metadata": {
        "colab": {
          "base_uri": "https://localhost:8080/"
        },
        "id": "V-BJVIxllSCe",
        "outputId": "425b9b93-6747-4dc6-be19-fad634abc194"
      },
      "execution_count": 5,
      "outputs": [
        {
          "output_type": "stream",
          "name": "stdout",
          "text": [
            "/content/Big-Data-Heart-Disease-Prediction\n"
          ]
        }
      ]
    },
    {
      "cell_type": "code",
      "source": [
        "ls"
      ],
      "metadata": {
        "colab": {
          "base_uri": "https://localhost:8080/"
        },
        "id": "yESLz9hjli0m",
        "outputId": "37af0ff7-04a3-4f0e-fdad-4d682ba5415b"
      },
      "execution_count": 6,
      "outputs": [
        {
          "output_type": "stream",
          "name": "stdout",
          "text": [
            "'Cardiac Health Dataset (Train & Test).csv'  'FIC Heart Conditions Dataset (Test).csv'\n"
          ]
        }
      ]
    },
    {
      "cell_type": "code",
      "source": [
        "data=spark.read.csv('/content/Big-Data-Heart-Disease-Prediction/Cardiac Health Dataset (Train & Test).csv',header=True,inferSchema=True)\n",
        "ficdata=spark.read.csv('/content/Big-Data-Heart-Disease-Prediction/FIC Heart Conditions Dataset (Test).csv',header=True,inferSchema=True)"
      ],
      "metadata": {
        "id": "GZ4kUeRXljZ_"
      },
      "execution_count": 7,
      "outputs": []
    },
    {
      "cell_type": "code",
      "source": [
        "data.show()"
      ],
      "metadata": {
        "id": "IqxQ_FyxltRJ",
        "colab": {
          "base_uri": "https://localhost:8080/"
        },
        "outputId": "ca447c00-aae1-4058-fadc-91c7b5090106"
      },
      "execution_count": 8,
      "outputs": [
        {
          "output_type": "stream",
          "name": "stdout",
          "text": [
            "+---+---+---------------+---+-----------+------------+-----------+------+---------------+-------------+-----------+-----------------------+--------+-------------+\n",
            "|Age|Sex|Chest pain type| BP|Cholesterol|FBS over 120|EKG results|Max HR|Exercise angina|ST depression|Slope of ST|Number of vessels fluro|Thallium|Heart Disease|\n",
            "+---+---+---------------+---+-----------+------------+-----------+------+---------------+-------------+-----------+-----------------------+--------+-------------+\n",
            "| 70|  1|              4|130|        322|           0|          2|   109|              0|          2.4|          2|                      3|       3|     Presence|\n",
            "| 67|  0|              3|115|        564|           0|          2|   160|              0|          1.6|          2|                      0|       7|      Absence|\n",
            "| 57|  1|              2|124|        261|           0|          0|   141|              0|          0.3|          1|                      0|       7|     Presence|\n",
            "| 64|  1|              4|128|        263|           0|          0|   105|              1|          0.2|          2|                      1|       7|      Absence|\n",
            "| 74|  0|              2|120|        269|           0|          2|   121|              1|          0.2|          1|                      1|       3|      Absence|\n",
            "| 65|  1|              4|120|        177|           0|          0|   140|              0|          0.4|          1|                      0|       7|      Absence|\n",
            "| 56|  1|              3|130|        256|           1|          2|   142|              1|          0.6|          2|                      1|       6|     Presence|\n",
            "| 59|  1|              4|110|        239|           0|          2|   142|              1|          1.2|          2|                      1|       7|     Presence|\n",
            "| 60|  1|              4|140|        293|           0|          2|   170|              0|          1.2|          2|                      2|       7|     Presence|\n",
            "| 63|  0|              4|150|        407|           0|          2|   154|              0|          4.0|          2|                      3|       7|     Presence|\n",
            "| 59|  1|              4|135|        234|           0|          0|   161|              0|          0.5|          2|                      0|       7|      Absence|\n",
            "| 53|  1|              4|142|        226|           0|          2|   111|              1|          0.0|          1|                      0|       7|      Absence|\n",
            "| 44|  1|              3|140|        235|           0|          2|   180|              0|          0.0|          1|                      0|       3|      Absence|\n",
            "| 61|  1|              1|134|        234|           0|          0|   145|              0|          2.6|          2|                      2|       3|     Presence|\n",
            "| 57|  0|              4|128|        303|           0|          2|   159|              0|          0.0|          1|                      1|       3|      Absence|\n",
            "| 71|  0|              4|112|        149|           0|          0|   125|              0|          1.6|          2|                      0|       3|      Absence|\n",
            "| 46|  1|              4|140|        311|           0|          0|   120|              1|          1.8|          2|                      2|       7|     Presence|\n",
            "| 53|  1|              4|140|        203|           1|          2|   155|              1|          3.1|          3|                      0|       7|     Presence|\n",
            "| 64|  1|              1|110|        211|           0|          2|   144|              1|          1.8|          2|                      0|       3|      Absence|\n",
            "| 40|  1|              1|140|        199|           0|          0|   178|              1|          1.4|          1|                      0|       7|      Absence|\n",
            "+---+---+---------------+---+-----------+------------+-----------+------+---------------+-------------+-----------+-----------------------+--------+-------------+\n",
            "only showing top 20 rows\n",
            "\n"
          ]
        }
      ]
    },
    {
      "cell_type": "code",
      "source": [
        "ficdata.show()"
      ],
      "metadata": {
        "id": "5Daldnsw3idN",
        "colab": {
          "base_uri": "https://localhost:8080/"
        },
        "outputId": "85135687-ea1d-4123-f279-19c8e6a21b98"
      },
      "execution_count": 9,
      "outputs": [
        {
          "output_type": "stream",
          "name": "stdout",
          "text": [
            "+---+---------+------+----------+-------------------------------------+----------------------------------------------------------------------------------------+-----+--------+----------+---------+-------+--------------+---------+--------+---+---------+-----+------------+---+------+----+--------+-----------+----------+-----+-----+---+-----+----+----------+-----+-----+-----+-------+--------------+----------+------+--------+------+---------------+--------------------+--------------------+----------------+---+--------+----+---+-------+-------+-----+-------+-----+---+----+---+---+--------+--------+---------+---------+\n",
            "|Age|Age.Group|Gender|Locality  |Marital status                       |Life.Style                                                                              |Sleep|Category|Depression|Hyperlipi|Smoking|Family.History|F.History|Diabetes|HTN|Allergies|   BP|Thrombolysis|BGR|B.Urea|S.Cr|S.Sodium|S.Potassium|S.Chloride|C.P.K|CK.MB|ESR|  WBC| RBC|Hemoglobin|P.C.V|M.C.V|M.C.H|M.C.H.C|PLATELET_COUNT|NEUTROPHIL|LYMPHO|MONOCYTE|EOSINO|        Others |                  CO|           Diagnosis|Hypersensitivity| cp|trestbps|chol|fbs|restecg|thalach|exang|oldpeak|slope| ca|thal|num| SK|SK.React|Reaction|Mortality|Follow.Up|\n",
            "+---+---------+------+----------+-------------------------------------+----------------------------------------------------------------------------------------+-----+--------+----------+---------+-------+--------------+---------+--------+---+---------+-----+------------+---+------+----+--------+-----------+----------+-----+-----+---+-----+----+----------+-----+-----+-----+-------+--------------+----------+------+--------+------+---------------+--------------------+--------------------+----------------+---+--------+----+---+-------+-------+-----+-------+-----+---+----+---+---+--------+--------+---------+---------+\n",
            "| 45|    41-50|Female|     RURAL|                              MARRIED|                                                                                      NO|   NO|    FREE|       YES|      YES|     NO|            NO|        0|       1| NO|       NO|100.6|           0| 84|  28.0| 0.9|     138|        3.3|       107|  130|   30| 11| 9900|4.26|      11.6| 0.34| 79.7| 27.2|   0.34|        265000|       0.7|  0.25|    0.03|     2|             no|         Chest pain,| EXT. ACUTE WALL M.I|              NO|  4|     132| 341|  1|      2|    136|    1|    3.0|    2|  0|   7|  2|  1|      NO|       0|        0|       60|\n",
            "| 51|    51-60|Female|     URBAN|                              MARRIED|                                                                                      NO|   NO|    FREE|       YES|      YES|     NO|            NO|        0|       0| NO|       NO| 90.6|           0|135|  17.0| 0.7|     144|        4.7|       104|  163|   30| 27|15800|5.74|      14.5| 0.44| 78.0| 25.0|   0.32|        287000|      0.73|   0.2|    0.04|     3|             no| Central Chest pain,|             A/W M.I|              NO|  4|     130| 305|  0|      0|    142|    1|    1.2|    2|  0|   7|  2|  1|      NO|       0|        0|       15|\n",
            "| 55|    51-60|Female|     RURAL|                              MARRIED|                                                                                     YES|  YES|    FREE|       YES|      YES|     NO|            NO|        0|       1|YES|       NO|100.7|           0|146|  37.0| 1.0|     137|        4.2|       103|  149|   22| 19| 7900|4.83|      14.1| 0.42| 87.0| 29.0|   0.33|        183000|       0.6|  0.33|    0.04|     3| LV dysfunction|Chest pain,SOB, C...|AC I/W M.I (RV) R...|              NO|  4|     180| 327|  0|      1|    117|    1|    3.4|    2|  0|   3|  2|  1|      NO|       0|        0|        6|\n",
            "| 55|    51-60|Female|     RURAL|                              MARRIED|                                                                                     YES|  YES|    FREE|       YES|      YES|     NO|            NO|        0|       1|YES|       NO|160.1|           0|146|  37.0| 1.0|     137|        4.2|       103|  149|   22| 19| 7900|4.83|      14.1| 0.42| 87.0| 29.0|   0.33|        183000|       0.6|  0.33|    0.04|     3|            HTN| CENTRAL Chest pain,|             I/W M.I|              NO|  4|     128| 205|  0|      1|    130|    1|    2.0|    2|  1|   7|  3|  1|      NO|       0|        0|       52|\n",
            "| 56|    51-60|Female|     RURAL|                              MARRIED|                                                                                     YES|   NO|    FREE|       YES|      YES|     NO|            NO|        0|       1|YES|       NO| 90.6|           0| 85|  78.0| 1.2|     139|        4.5|       112|   75|   18| 13| 6900|4.41|      12.3| 0.36| 82.0| 27.0|   0.33|        211000|      0.71|  0.25|    0.02|     2|             no|         Chest pain,|             A/W M.I|              NO|  4|     200| 288|  1|      2|    133|    1|    4.0|    3|  2|   7|  3|  1|      NO|       0|        0|       34|\n",
            "| 56|    51-60|Female|     URBAN|                              MARRIED|                                                                                      NO|   NO|    FREE|       YES|      YES|     NO|            NO|        0|       1|YES|       NO|140.7|           0|166| 104.0| 4.0|     130|        5.3|       100|  322|   52|154|13500| 3.9|      10.0| 0.29| 74.4| 25.7|   0.35|        288000|      0.85|   0.1|    0.03|     2|PND, ORTHOPENIA|     SOB FROM 1 DAY |         ACS, NSTEMI|              NO|  4|     134| 409|  0|      2|    150|    1|    1.9|    2|  2|   7|  2|  1|      NO|       0|        1|       32|\n",
            "| 57|    51-60|Female|     RURAL|                              MARRIED|                                                                                     YES|  YES|    PAID|       YES|      YES|     NO|            NO|        0|       1|YES|       NO|120.8|           0| 96|  42.0| 1.0|     146|        3.9|       100|  146|   21| 25| 7400|4.14|      11.7| 0.36| 87.0| 28.0|   0.32|        395000|      0.63|  0.31|    0.03|     3|             no|Chest pain, SWEATING|          AC I/W M.I|              NO|  4|     140| 241|  0|      0|    123|    1|    0.2|    2|  0|   7|  1|  1|      NO|       0|        0|       60|\n",
            "| 57|    51-60|Female|     RURAL|                              MARRIED|                                                                                      NO|   NO|    FREE|       YES|      YES|     NO|            NO|        0|       1| NO|       NO|100.6|           0| 84|  28.0| 0.9|     138|        3.3|       107|  130|   30| 11| 9900|4.26|      11.6| 0.34| 79.7| 27.2|   0.34|        265000|       0.7|  0.25|    0.03|     2|             no|         Chest pain,| EXT. ACUTE WALL M.I|              NO|  2|     130| 236|  0|      2|    174|    0|    0.0|    2|  1|   3|  1|  1|      NO|       0|        1|        3|\n",
            "| 58|    51-60|Female|     URBAN|                              MARRIED|                                                                                      NO|   NO|    FREE|       YES|      YES|     NO|            NO|        0|       0| NO|       NO| 90.6|           0|135|  17.0| 0.7|     144|        4.7|       104|  163|   30| 27|15800|5.74|      14.5| 0.44| 78.0| 25.0|   0.32|        287000|      0.73|   0.2|    0.04|     3|             no| Central Chest pain,|             A/W M.I|              NO|  2|     136| 319|  1|      2|    152|    0|    0.0|    1|  2|   3|  3|  1|      NO|       0|        0|       15|\n",
            "| 58|    51-60|Female|     RURAL|                              MARRIED|                                                                                     YES|  YES|    FREE|       YES|      YES|     NO|            NO|        0|       1|YES|       NO|100.7|           0|146|  37.0| 1.0|     137|        4.2|       103|  149|   22| 19| 7900|4.83|      14.1| 0.42| 87.0| 29.0|   0.33|        183000|       0.6|  0.33|    0.04|     3| LV dysfunction|Chest pain,SOB, C...|AC I/W M.I (RV) R...|              NO|  4|     170| 225|  1|      2|    146|    1|    2.8|    2|  2|   6|  2|  1|      NO|       0|        0|        6|\n",
            "| 59|    51-60|Female|     RURAL|                              MARRIED|                                                                                     YES|  YES|    FREE|       YES|      YES|     NO|            NO|        0|       1|YES|       NO|160.1|           0|146|  37.0| 1.0|     137|        4.2|       103|  149|   22| 19| 7900|4.83|      14.1| 0.42| 87.0| 29.0|   0.33|        183000|       0.6|  0.33|    0.04|     3|            HTN| CENTRAL Chest pain,|             I/W M.I|              NO|  4|     174| 249|  0|      0|    143|    1|    0.0|    2|  0|   3|  1|  1|      NO|       0|        1|       52|\n",
            "| 60|    51-60|Female|     RURAL|                              MARRIED|                                                                                     YES|   NO|    FREE|       YES|      YES|     NO|            NO|        0|       1|YES|       NO| 90.6|           0| 85|  78.0| 1.2|     139|        4.5|       112|   75|   18| 13| 6900|4.41|      12.3| 0.36| 82.0| 27.0|   0.33|        211000|      0.71|  0.25|    0.02|     2|             no|         Chest pain,|             A/W M.I|              NO|  4|     150| 258|  0|      2|    157|    0|    2.6|    2|  2|   7|  3|  1|      NO|       0|        0|       34|\n",
            "| 60|    51-60|Female|     URBAN|                              MARRIED|                                                                                      NO|   NO|    FREE|       YES|      YES|     NO|            NO|        0|       1|YES|       NO|140.7|           0|166| 104.0| 4.0|     130|        5.3|       100|  322|   52|154|13500| 3.9|      10.0| 0.29| 74.4| 25.7|   0.35|        288000|      0.85|   0.1|    0.03|     2|PND, ORTHOPENIA|     SOB FROM 1 DAY |         ACS, NSTEMI|              NO|  4|     158| 305|  0|      2|    161|    0|    0.0|    1|  0|   3|  1|  1|      NO|       0|        0|       32|\n",
            "| 61|    61-70|Female|     RURAL|                              MARRIED|                                                                                     YES|  YES|    PAID|       YES|      YES|     NO|            NO|        0|       1|YES|       NO|120.8|           0| 96|  42.0| 1.0|     146|        3.9|       100|  146|   21| 25| 7400|4.14|      11.7| 0.36| 87.0| 28.0|   0.32|        395000|      0.63|  0.31|    0.03|     3|             no|Chest pain, SWEATING|          AC I/W M.I|              NO|  4|     130| 330|  0|      2|    169|    0|    0.0|    1|  0|   3|  1|  1|      NO|       0|        1|       12|\n",
            "| 61|    61-70|Female|     RURAL|                              MARRIED|                                                                                      NO|   NO|    FREE|       YES|      YES|     NO|            NO|        0|       1| NO|       NO|100.6|           0| 84|  28.0| 0.9|     138|        3.3|       107|  130|   30| 11| 9900|4.26|      11.6| 0.34| 79.7| 27.2|   0.34|        265000|       0.7|  0.25|    0.03|     2|             no|         Chest pain,| EXT. ACUTE WALL M.I|              NO|  4|     145| 307|  0|      2|    146|    1|    1.0|    2|  0|   7|  1|  1|      NO|       0|        1|       15|\n",
            "| 62|    61-70|Female|     URBAN|                              MARRIED|                                                                                      NO|   NO|    FREE|       YES|      YES|     NO|            NO|        0|       0| NO|       NO| 90.6|           0|135|  17.0| 0.7|     144|        4.7|       104|  163|   30| 27|15800|5.74|      14.5| 0.44| 78.0| 25.0|   0.32|        287000|      0.73|   0.2|    0.04|     3|             no| Central Chest pain,|             A/W M.I|              NO|  4|     140| 268|  0|      2|    160|    0|    3.6|    3|  2|   3|  3|  1|      NO|       0|        0|       15|\n",
            "| 62|    61-70|Female|     RURAL|                              MARRIED|                                                                                     YES|  YES|    FREE|       YES|      YES|     NO|            NO|        0|       1|YES|       NO|100.7|           0|146|  37.0| 1.0|     137|        4.2|       103|  149|   22| 19| 7900|4.83|      14.1| 0.42| 87.0| 29.0|   0.33|        183000|       0.6|  0.33|    0.04|     3| LV dysfunction|Chest pain,SOB, C...|AC I/W M.I (RV) R...|              NO|  4|     160| 164|  0|      2|    145|    0|    6.2|    3|  3|   7|  3|  1|      NO|       0|        0|        6|\n",
            "| 62|    61-70|Female|     RURAL|                              MARRIED|                                                                                     YES|  YES|    FREE|       YES|      YES|     NO|            NO|        0|       1|YES|       NO|160.1|           0|146|  37.0| 1.0|     137|        4.2|       103|  149|   22| 19| 7900|4.83|      14.1| 0.42| 87.0| 29.0|   0.33|        183000|       0.6|  0.33|    0.04|     3|            HTN| CENTRAL Chest pain,|             I/W M.I|              NO|  3|     130| 263|  0|      0|     97|    0|    1.2|    2|  1|   7|  2|  1|      NO|       0|        1|       52|\n",
            "| 62|    61-70|Female|     RURAL|                              MARRIED|                                                                                     YES|   NO|    FREE|       YES|      YES|     NO|            NO|        0|       1|YES|       NO| 90.6|           0| 85|  78.0| 1.2|     139|        4.5|       112|   75|   18| 13| 6900|4.41|      12.3| 0.36| 82.0| 27.0|   0.33|        211000|      0.71|  0.25|    0.02|     2|             no|         Chest pain,|             A/W M.I|              NO|  4|     138| 294|  1|      0|    106|    0|    1.9|    2|  3|   3|  2|  1|      NO|       0|        1|       34|\n",
            "| 62|    61-70|Female|     URBAN|                              MARRIED|                                                                                      NO|   NO|    FREE|       YES|      YES|     NO|            NO|        0|       1|YES|       NO|140.7|           0|166| 104.0| 4.0|     130|        5.3|       100|  322|   52|154|13500| 3.9|      10.0| 0.29| 74.4| 25.7|   0.35|        288000|      0.85|   0.1|    0.03|     2|PND, ORTHOPENIA|     SOB FROM 1 DAY |         ACS, NSTEMI|              NO|  4|     150| 244|  0|      0|    154|    1|    1.4|    2|  0|   3|  1|  1|      NO|       0|        1|       32|\n",
            "+---+---------+------+----------+-------------------------------------+----------------------------------------------------------------------------------------+-----+--------+----------+---------+-------+--------------+---------+--------+---+---------+-----+------------+---+------+----+--------+-----------+----------+-----+-----+---+-----+----+----------+-----+-----+-----+-------+--------------+----------+------+--------+------+---------------+--------------------+--------------------+----------------+---+--------+----+---+-------+-------+-----+-------+-----+---+----+---+---+--------+--------+---------+---------+\n",
            "only showing top 20 rows\n",
            "\n"
          ]
        }
      ]
    },
    {
      "cell_type": "markdown",
      "source": [
        "## **Cleaning the Raw datasets**\n",
        "The datasets have incorrectly labeled columns and missing data/Null value entries. The FIC dataset has extra columns which we will not be using as features which will be trimmed."
      ],
      "metadata": {
        "id": "a9SRCbo-8wMe"
      }
    },
    {
      "cell_type": "markdown",
      "source": [
        "**Cardiac Health Dataset Cleaning**"
      ],
      "metadata": {
        "id": "ZgwrHTlPgUq4"
      }
    },
    {
      "cell_type": "code",
      "source": [
        "data.show()"
      ],
      "metadata": {
        "colab": {
          "base_uri": "https://localhost:8080/"
        },
        "id": "Ga543bIDChD1",
        "outputId": "9659533f-dc40-4c1e-ba08-14da952012a7"
      },
      "execution_count": 10,
      "outputs": [
        {
          "output_type": "stream",
          "name": "stdout",
          "text": [
            "+---+---+---------------+---+-----------+------------+-----------+------+---------------+-------------+-----------+-----------------------+--------+-------------+\n",
            "|Age|Sex|Chest pain type| BP|Cholesterol|FBS over 120|EKG results|Max HR|Exercise angina|ST depression|Slope of ST|Number of vessels fluro|Thallium|Heart Disease|\n",
            "+---+---+---------------+---+-----------+------------+-----------+------+---------------+-------------+-----------+-----------------------+--------+-------------+\n",
            "| 70|  1|              4|130|        322|           0|          2|   109|              0|          2.4|          2|                      3|       3|     Presence|\n",
            "| 67|  0|              3|115|        564|           0|          2|   160|              0|          1.6|          2|                      0|       7|      Absence|\n",
            "| 57|  1|              2|124|        261|           0|          0|   141|              0|          0.3|          1|                      0|       7|     Presence|\n",
            "| 64|  1|              4|128|        263|           0|          0|   105|              1|          0.2|          2|                      1|       7|      Absence|\n",
            "| 74|  0|              2|120|        269|           0|          2|   121|              1|          0.2|          1|                      1|       3|      Absence|\n",
            "| 65|  1|              4|120|        177|           0|          0|   140|              0|          0.4|          1|                      0|       7|      Absence|\n",
            "| 56|  1|              3|130|        256|           1|          2|   142|              1|          0.6|          2|                      1|       6|     Presence|\n",
            "| 59|  1|              4|110|        239|           0|          2|   142|              1|          1.2|          2|                      1|       7|     Presence|\n",
            "| 60|  1|              4|140|        293|           0|          2|   170|              0|          1.2|          2|                      2|       7|     Presence|\n",
            "| 63|  0|              4|150|        407|           0|          2|   154|              0|          4.0|          2|                      3|       7|     Presence|\n",
            "| 59|  1|              4|135|        234|           0|          0|   161|              0|          0.5|          2|                      0|       7|      Absence|\n",
            "| 53|  1|              4|142|        226|           0|          2|   111|              1|          0.0|          1|                      0|       7|      Absence|\n",
            "| 44|  1|              3|140|        235|           0|          2|   180|              0|          0.0|          1|                      0|       3|      Absence|\n",
            "| 61|  1|              1|134|        234|           0|          0|   145|              0|          2.6|          2|                      2|       3|     Presence|\n",
            "| 57|  0|              4|128|        303|           0|          2|   159|              0|          0.0|          1|                      1|       3|      Absence|\n",
            "| 71|  0|              4|112|        149|           0|          0|   125|              0|          1.6|          2|                      0|       3|      Absence|\n",
            "| 46|  1|              4|140|        311|           0|          0|   120|              1|          1.8|          2|                      2|       7|     Presence|\n",
            "| 53|  1|              4|140|        203|           1|          2|   155|              1|          3.1|          3|                      0|       7|     Presence|\n",
            "| 64|  1|              1|110|        211|           0|          2|   144|              1|          1.8|          2|                      0|       3|      Absence|\n",
            "| 40|  1|              1|140|        199|           0|          0|   178|              1|          1.4|          1|                      0|       7|      Absence|\n",
            "+---+---+---------------+---+-----------+------------+-----------+------+---------------+-------------+-----------+-----------------------+--------+-------------+\n",
            "only showing top 20 rows\n",
            "\n"
          ]
        }
      ]
    },
    {
      "cell_type": "code",
      "source": [
        "data=data.drop('Chest pain type')\n",
        "data=data.withColumnRenamed('BP','Blood Pressure(mm Hg)').withColumnRenamed('Cholesterol','Cholesterol(mg/dl)').withColumnRenamed('FBS over 120','Fasting Blood Sugar > 120(mg/dl)').withColumnRenamed('EKG results','Resting EKG').withColumnRenamed('Max HR','Max Resting Heartrate').withColumnRenamed('Exercise angina','Exercise Angina')\n",
        "data = data.replace(\"Absence\", \"0\", \"Heart Disease\")\n",
        "data = data.replace(\"Presence\", \"1\", \"Heart Disease\")\n",
        "data=data.withColumn(\"Heart Disease\", data[\"Heart Disease\"].cast(IntegerType()))"
      ],
      "metadata": {
        "id": "Z2WLdpGi7Wyw"
      },
      "execution_count": 11,
      "outputs": []
    },
    {
      "cell_type": "markdown",
      "source": [
        "1. Chestpain type column was dropped\n",
        "2. Columns were renamed to provide clarity\n",
        "3. Presence/Absence of Heart Disease denoted by 1/0 respectively.\n",
        "4. Heart Disease column entries changed to integer type"
      ],
      "metadata": {
        "id": "cqz1wP76Rc_h"
      }
    },
    {
      "cell_type": "code",
      "source": [
        "data.show()"
      ],
      "metadata": {
        "id": "foo5XHY979FP",
        "colab": {
          "base_uri": "https://localhost:8080/"
        },
        "outputId": "69080a4b-c1ec-4467-cfe1-f29b56b0d42e"
      },
      "execution_count": 12,
      "outputs": [
        {
          "output_type": "stream",
          "name": "stdout",
          "text": [
            "+---+---+---------------------+------------------+--------------------------------+-----------+---------------------+---------------+-------------+-----------+-----------------------+--------+-------------+\n",
            "|Age|Sex|Blood Pressure(mm Hg)|Cholesterol(mg/dl)|Fasting Blood Sugar > 120(mg/dl)|Resting EKG|Max Resting Heartrate|Exercise Angina|ST depression|Slope of ST|Number of vessels fluro|Thallium|Heart Disease|\n",
            "+---+---+---------------------+------------------+--------------------------------+-----------+---------------------+---------------+-------------+-----------+-----------------------+--------+-------------+\n",
            "| 70|  1|                  130|               322|                               0|          2|                  109|              0|          2.4|          2|                      3|       3|            1|\n",
            "| 67|  0|                  115|               564|                               0|          2|                  160|              0|          1.6|          2|                      0|       7|            0|\n",
            "| 57|  1|                  124|               261|                               0|          0|                  141|              0|          0.3|          1|                      0|       7|            1|\n",
            "| 64|  1|                  128|               263|                               0|          0|                  105|              1|          0.2|          2|                      1|       7|            0|\n",
            "| 74|  0|                  120|               269|                               0|          2|                  121|              1|          0.2|          1|                      1|       3|            0|\n",
            "| 65|  1|                  120|               177|                               0|          0|                  140|              0|          0.4|          1|                      0|       7|            0|\n",
            "| 56|  1|                  130|               256|                               1|          2|                  142|              1|          0.6|          2|                      1|       6|            1|\n",
            "| 59|  1|                  110|               239|                               0|          2|                  142|              1|          1.2|          2|                      1|       7|            1|\n",
            "| 60|  1|                  140|               293|                               0|          2|                  170|              0|          1.2|          2|                      2|       7|            1|\n",
            "| 63|  0|                  150|               407|                               0|          2|                  154|              0|          4.0|          2|                      3|       7|            1|\n",
            "| 59|  1|                  135|               234|                               0|          0|                  161|              0|          0.5|          2|                      0|       7|            0|\n",
            "| 53|  1|                  142|               226|                               0|          2|                  111|              1|          0.0|          1|                      0|       7|            0|\n",
            "| 44|  1|                  140|               235|                               0|          2|                  180|              0|          0.0|          1|                      0|       3|            0|\n",
            "| 61|  1|                  134|               234|                               0|          0|                  145|              0|          2.6|          2|                      2|       3|            1|\n",
            "| 57|  0|                  128|               303|                               0|          2|                  159|              0|          0.0|          1|                      1|       3|            0|\n",
            "| 71|  0|                  112|               149|                               0|          0|                  125|              0|          1.6|          2|                      0|       3|            0|\n",
            "| 46|  1|                  140|               311|                               0|          0|                  120|              1|          1.8|          2|                      2|       7|            1|\n",
            "| 53|  1|                  140|               203|                               1|          2|                  155|              1|          3.1|          3|                      0|       7|            1|\n",
            "| 64|  1|                  110|               211|                               0|          2|                  144|              1|          1.8|          2|                      0|       3|            0|\n",
            "| 40|  1|                  140|               199|                               0|          0|                  178|              1|          1.4|          1|                      0|       7|            0|\n",
            "+---+---+---------------------+------------------+--------------------------------+-----------+---------------------+---------------+-------------+-----------+-----------------------+--------+-------------+\n",
            "only showing top 20 rows\n",
            "\n"
          ]
        }
      ]
    },
    {
      "cell_type": "markdown",
      "source": [
        "**FIC Heart Conditions Dataset**"
      ],
      "metadata": {
        "id": "11vc2SvRg-Ek"
      }
    },
    {
      "cell_type": "code",
      "source": [
        "ficdata.show()"
      ],
      "metadata": {
        "id": "jdLXJphP7-DC",
        "colab": {
          "base_uri": "https://localhost:8080/"
        },
        "outputId": "74db60b7-d11a-4c65-db8e-7f6db17b6af6"
      },
      "execution_count": 13,
      "outputs": [
        {
          "output_type": "stream",
          "name": "stdout",
          "text": [
            "+---+---------+------+----------+-------------------------------------+----------------------------------------------------------------------------------------+-----+--------+----------+---------+-------+--------------+---------+--------+---+---------+-----+------------+---+------+----+--------+-----------+----------+-----+-----+---+-----+----+----------+-----+-----+-----+-------+--------------+----------+------+--------+------+---------------+--------------------+--------------------+----------------+---+--------+----+---+-------+-------+-----+-------+-----+---+----+---+---+--------+--------+---------+---------+\n",
            "|Age|Age.Group|Gender|Locality  |Marital status                       |Life.Style                                                                              |Sleep|Category|Depression|Hyperlipi|Smoking|Family.History|F.History|Diabetes|HTN|Allergies|   BP|Thrombolysis|BGR|B.Urea|S.Cr|S.Sodium|S.Potassium|S.Chloride|C.P.K|CK.MB|ESR|  WBC| RBC|Hemoglobin|P.C.V|M.C.V|M.C.H|M.C.H.C|PLATELET_COUNT|NEUTROPHIL|LYMPHO|MONOCYTE|EOSINO|        Others |                  CO|           Diagnosis|Hypersensitivity| cp|trestbps|chol|fbs|restecg|thalach|exang|oldpeak|slope| ca|thal|num| SK|SK.React|Reaction|Mortality|Follow.Up|\n",
            "+---+---------+------+----------+-------------------------------------+----------------------------------------------------------------------------------------+-----+--------+----------+---------+-------+--------------+---------+--------+---+---------+-----+------------+---+------+----+--------+-----------+----------+-----+-----+---+-----+----+----------+-----+-----+-----+-------+--------------+----------+------+--------+------+---------------+--------------------+--------------------+----------------+---+--------+----+---+-------+-------+-----+-------+-----+---+----+---+---+--------+--------+---------+---------+\n",
            "| 45|    41-50|Female|     RURAL|                              MARRIED|                                                                                      NO|   NO|    FREE|       YES|      YES|     NO|            NO|        0|       1| NO|       NO|100.6|           0| 84|  28.0| 0.9|     138|        3.3|       107|  130|   30| 11| 9900|4.26|      11.6| 0.34| 79.7| 27.2|   0.34|        265000|       0.7|  0.25|    0.03|     2|             no|         Chest pain,| EXT. ACUTE WALL M.I|              NO|  4|     132| 341|  1|      2|    136|    1|    3.0|    2|  0|   7|  2|  1|      NO|       0|        0|       60|\n",
            "| 51|    51-60|Female|     URBAN|                              MARRIED|                                                                                      NO|   NO|    FREE|       YES|      YES|     NO|            NO|        0|       0| NO|       NO| 90.6|           0|135|  17.0| 0.7|     144|        4.7|       104|  163|   30| 27|15800|5.74|      14.5| 0.44| 78.0| 25.0|   0.32|        287000|      0.73|   0.2|    0.04|     3|             no| Central Chest pain,|             A/W M.I|              NO|  4|     130| 305|  0|      0|    142|    1|    1.2|    2|  0|   7|  2|  1|      NO|       0|        0|       15|\n",
            "| 55|    51-60|Female|     RURAL|                              MARRIED|                                                                                     YES|  YES|    FREE|       YES|      YES|     NO|            NO|        0|       1|YES|       NO|100.7|           0|146|  37.0| 1.0|     137|        4.2|       103|  149|   22| 19| 7900|4.83|      14.1| 0.42| 87.0| 29.0|   0.33|        183000|       0.6|  0.33|    0.04|     3| LV dysfunction|Chest pain,SOB, C...|AC I/W M.I (RV) R...|              NO|  4|     180| 327|  0|      1|    117|    1|    3.4|    2|  0|   3|  2|  1|      NO|       0|        0|        6|\n",
            "| 55|    51-60|Female|     RURAL|                              MARRIED|                                                                                     YES|  YES|    FREE|       YES|      YES|     NO|            NO|        0|       1|YES|       NO|160.1|           0|146|  37.0| 1.0|     137|        4.2|       103|  149|   22| 19| 7900|4.83|      14.1| 0.42| 87.0| 29.0|   0.33|        183000|       0.6|  0.33|    0.04|     3|            HTN| CENTRAL Chest pain,|             I/W M.I|              NO|  4|     128| 205|  0|      1|    130|    1|    2.0|    2|  1|   7|  3|  1|      NO|       0|        0|       52|\n",
            "| 56|    51-60|Female|     RURAL|                              MARRIED|                                                                                     YES|   NO|    FREE|       YES|      YES|     NO|            NO|        0|       1|YES|       NO| 90.6|           0| 85|  78.0| 1.2|     139|        4.5|       112|   75|   18| 13| 6900|4.41|      12.3| 0.36| 82.0| 27.0|   0.33|        211000|      0.71|  0.25|    0.02|     2|             no|         Chest pain,|             A/W M.I|              NO|  4|     200| 288|  1|      2|    133|    1|    4.0|    3|  2|   7|  3|  1|      NO|       0|        0|       34|\n",
            "| 56|    51-60|Female|     URBAN|                              MARRIED|                                                                                      NO|   NO|    FREE|       YES|      YES|     NO|            NO|        0|       1|YES|       NO|140.7|           0|166| 104.0| 4.0|     130|        5.3|       100|  322|   52|154|13500| 3.9|      10.0| 0.29| 74.4| 25.7|   0.35|        288000|      0.85|   0.1|    0.03|     2|PND, ORTHOPENIA|     SOB FROM 1 DAY |         ACS, NSTEMI|              NO|  4|     134| 409|  0|      2|    150|    1|    1.9|    2|  2|   7|  2|  1|      NO|       0|        1|       32|\n",
            "| 57|    51-60|Female|     RURAL|                              MARRIED|                                                                                     YES|  YES|    PAID|       YES|      YES|     NO|            NO|        0|       1|YES|       NO|120.8|           0| 96|  42.0| 1.0|     146|        3.9|       100|  146|   21| 25| 7400|4.14|      11.7| 0.36| 87.0| 28.0|   0.32|        395000|      0.63|  0.31|    0.03|     3|             no|Chest pain, SWEATING|          AC I/W M.I|              NO|  4|     140| 241|  0|      0|    123|    1|    0.2|    2|  0|   7|  1|  1|      NO|       0|        0|       60|\n",
            "| 57|    51-60|Female|     RURAL|                              MARRIED|                                                                                      NO|   NO|    FREE|       YES|      YES|     NO|            NO|        0|       1| NO|       NO|100.6|           0| 84|  28.0| 0.9|     138|        3.3|       107|  130|   30| 11| 9900|4.26|      11.6| 0.34| 79.7| 27.2|   0.34|        265000|       0.7|  0.25|    0.03|     2|             no|         Chest pain,| EXT. ACUTE WALL M.I|              NO|  2|     130| 236|  0|      2|    174|    0|    0.0|    2|  1|   3|  1|  1|      NO|       0|        1|        3|\n",
            "| 58|    51-60|Female|     URBAN|                              MARRIED|                                                                                      NO|   NO|    FREE|       YES|      YES|     NO|            NO|        0|       0| NO|       NO| 90.6|           0|135|  17.0| 0.7|     144|        4.7|       104|  163|   30| 27|15800|5.74|      14.5| 0.44| 78.0| 25.0|   0.32|        287000|      0.73|   0.2|    0.04|     3|             no| Central Chest pain,|             A/W M.I|              NO|  2|     136| 319|  1|      2|    152|    0|    0.0|    1|  2|   3|  3|  1|      NO|       0|        0|       15|\n",
            "| 58|    51-60|Female|     RURAL|                              MARRIED|                                                                                     YES|  YES|    FREE|       YES|      YES|     NO|            NO|        0|       1|YES|       NO|100.7|           0|146|  37.0| 1.0|     137|        4.2|       103|  149|   22| 19| 7900|4.83|      14.1| 0.42| 87.0| 29.0|   0.33|        183000|       0.6|  0.33|    0.04|     3| LV dysfunction|Chest pain,SOB, C...|AC I/W M.I (RV) R...|              NO|  4|     170| 225|  1|      2|    146|    1|    2.8|    2|  2|   6|  2|  1|      NO|       0|        0|        6|\n",
            "| 59|    51-60|Female|     RURAL|                              MARRIED|                                                                                     YES|  YES|    FREE|       YES|      YES|     NO|            NO|        0|       1|YES|       NO|160.1|           0|146|  37.0| 1.0|     137|        4.2|       103|  149|   22| 19| 7900|4.83|      14.1| 0.42| 87.0| 29.0|   0.33|        183000|       0.6|  0.33|    0.04|     3|            HTN| CENTRAL Chest pain,|             I/W M.I|              NO|  4|     174| 249|  0|      0|    143|    1|    0.0|    2|  0|   3|  1|  1|      NO|       0|        1|       52|\n",
            "| 60|    51-60|Female|     RURAL|                              MARRIED|                                                                                     YES|   NO|    FREE|       YES|      YES|     NO|            NO|        0|       1|YES|       NO| 90.6|           0| 85|  78.0| 1.2|     139|        4.5|       112|   75|   18| 13| 6900|4.41|      12.3| 0.36| 82.0| 27.0|   0.33|        211000|      0.71|  0.25|    0.02|     2|             no|         Chest pain,|             A/W M.I|              NO|  4|     150| 258|  0|      2|    157|    0|    2.6|    2|  2|   7|  3|  1|      NO|       0|        0|       34|\n",
            "| 60|    51-60|Female|     URBAN|                              MARRIED|                                                                                      NO|   NO|    FREE|       YES|      YES|     NO|            NO|        0|       1|YES|       NO|140.7|           0|166| 104.0| 4.0|     130|        5.3|       100|  322|   52|154|13500| 3.9|      10.0| 0.29| 74.4| 25.7|   0.35|        288000|      0.85|   0.1|    0.03|     2|PND, ORTHOPENIA|     SOB FROM 1 DAY |         ACS, NSTEMI|              NO|  4|     158| 305|  0|      2|    161|    0|    0.0|    1|  0|   3|  1|  1|      NO|       0|        0|       32|\n",
            "| 61|    61-70|Female|     RURAL|                              MARRIED|                                                                                     YES|  YES|    PAID|       YES|      YES|     NO|            NO|        0|       1|YES|       NO|120.8|           0| 96|  42.0| 1.0|     146|        3.9|       100|  146|   21| 25| 7400|4.14|      11.7| 0.36| 87.0| 28.0|   0.32|        395000|      0.63|  0.31|    0.03|     3|             no|Chest pain, SWEATING|          AC I/W M.I|              NO|  4|     130| 330|  0|      2|    169|    0|    0.0|    1|  0|   3|  1|  1|      NO|       0|        1|       12|\n",
            "| 61|    61-70|Female|     RURAL|                              MARRIED|                                                                                      NO|   NO|    FREE|       YES|      YES|     NO|            NO|        0|       1| NO|       NO|100.6|           0| 84|  28.0| 0.9|     138|        3.3|       107|  130|   30| 11| 9900|4.26|      11.6| 0.34| 79.7| 27.2|   0.34|        265000|       0.7|  0.25|    0.03|     2|             no|         Chest pain,| EXT. ACUTE WALL M.I|              NO|  4|     145| 307|  0|      2|    146|    1|    1.0|    2|  0|   7|  1|  1|      NO|       0|        1|       15|\n",
            "| 62|    61-70|Female|     URBAN|                              MARRIED|                                                                                      NO|   NO|    FREE|       YES|      YES|     NO|            NO|        0|       0| NO|       NO| 90.6|           0|135|  17.0| 0.7|     144|        4.7|       104|  163|   30| 27|15800|5.74|      14.5| 0.44| 78.0| 25.0|   0.32|        287000|      0.73|   0.2|    0.04|     3|             no| Central Chest pain,|             A/W M.I|              NO|  4|     140| 268|  0|      2|    160|    0|    3.6|    3|  2|   3|  3|  1|      NO|       0|        0|       15|\n",
            "| 62|    61-70|Female|     RURAL|                              MARRIED|                                                                                     YES|  YES|    FREE|       YES|      YES|     NO|            NO|        0|       1|YES|       NO|100.7|           0|146|  37.0| 1.0|     137|        4.2|       103|  149|   22| 19| 7900|4.83|      14.1| 0.42| 87.0| 29.0|   0.33|        183000|       0.6|  0.33|    0.04|     3| LV dysfunction|Chest pain,SOB, C...|AC I/W M.I (RV) R...|              NO|  4|     160| 164|  0|      2|    145|    0|    6.2|    3|  3|   7|  3|  1|      NO|       0|        0|        6|\n",
            "| 62|    61-70|Female|     RURAL|                              MARRIED|                                                                                     YES|  YES|    FREE|       YES|      YES|     NO|            NO|        0|       1|YES|       NO|160.1|           0|146|  37.0| 1.0|     137|        4.2|       103|  149|   22| 19| 7900|4.83|      14.1| 0.42| 87.0| 29.0|   0.33|        183000|       0.6|  0.33|    0.04|     3|            HTN| CENTRAL Chest pain,|             I/W M.I|              NO|  3|     130| 263|  0|      0|     97|    0|    1.2|    2|  1|   7|  2|  1|      NO|       0|        1|       52|\n",
            "| 62|    61-70|Female|     RURAL|                              MARRIED|                                                                                     YES|   NO|    FREE|       YES|      YES|     NO|            NO|        0|       1|YES|       NO| 90.6|           0| 85|  78.0| 1.2|     139|        4.5|       112|   75|   18| 13| 6900|4.41|      12.3| 0.36| 82.0| 27.0|   0.33|        211000|      0.71|  0.25|    0.02|     2|             no|         Chest pain,|             A/W M.I|              NO|  4|     138| 294|  1|      0|    106|    0|    1.9|    2|  3|   3|  2|  1|      NO|       0|        1|       34|\n",
            "| 62|    61-70|Female|     URBAN|                              MARRIED|                                                                                      NO|   NO|    FREE|       YES|      YES|     NO|            NO|        0|       1|YES|       NO|140.7|           0|166| 104.0| 4.0|     130|        5.3|       100|  322|   52|154|13500| 3.9|      10.0| 0.29| 74.4| 25.7|   0.35|        288000|      0.85|   0.1|    0.03|     2|PND, ORTHOPENIA|     SOB FROM 1 DAY |         ACS, NSTEMI|              NO|  4|     150| 244|  0|      0|    154|    1|    1.4|    2|  0|   3|  1|  1|      NO|       0|        1|       32|\n",
            "+---+---------+------+----------+-------------------------------------+----------------------------------------------------------------------------------------+-----+--------+----------+---------+-------+--------------+---------+--------+---+---------+-----+------------+---+------+----+--------+-----------+----------+-----+-----+---+-----+----+----------+-----+-----+-----+-------+--------------+----------+------+--------+------+---------------+--------------------+--------------------+----------------+---+--------+----+---+-------+-------+-----+-------+-----+---+----+---+---+--------+--------+---------+---------+\n",
            "only showing top 20 rows\n",
            "\n"
          ]
        }
      ]
    },
    {
      "cell_type": "code",
      "source": [
        "ficdata=ficdata.drop('Age.Group','Locality  ','Others ','Marital status                       ','Family.History','Life.Style                                                                              ','Sleep','Category','Depression','Hyperlipi','Smoking','F.History','Diabetes','HTN','Allergies','Thrombolysis','BGR','B.Urea','S.Cr','S.Sodium','S.Potassium','S.Chloride','C.P.K','CK.MB','ESR','WBC','RBC','M.C.H','Hemoglobin','P.C.V','M.C.V','M.C.','M.C.H.C','PLATELET_COUNT','NEUTROPHIL','LYMPHO','MONOCYTE','EOSINO','        Others','CO','Diagnosis','Hypersensitivity','cp','trestbps','num','SK','SK.React','Reaction','Follow.Up')\n",
        "ficdata=ficdata.withColumnRenamed('BP','Blood Pressure(mm Hg)').withColumnRenamed('Gender','Sex').withColumnRenamed('chol','Cholesterol(mg/dl)').withColumnRenamed('fbs','Fasting Blood Sugar > 120(mg/dl)').withColumnRenamed('restecg','Resting EKG').withColumnRenamed('thalach','Max Resting Heartrate').withColumnRenamed('exang','Exercise Angina').withColumnRenamed('oldpeak','ST depression').withColumnRenamed('slope','Slope of ST').withColumnRenamed('ca','Number of vessels fluro').withColumnRenamed('thal','Thallium').withColumnRenamed('Mortality','Heart Disease')\n",
        "ficdata=ficdata.replace(\"Female\", \"0\", \"Sex\")\n",
        "ficdata=ficdata.replace(\"Male\", \"1\", \"Sex\")\n",
        "ficdata=ficdata.replace(0, 1, \"Heart Disease\")\n",
        "ficdata=ficdata.withColumn(\"Sex\", ficdata[\"Sex\"].cast(IntegerType()))\n",
        "ficdata=ficdata.withColumn(\"Blood Pressure(mm Hg)\", ficdata[\"Blood Pressure(mm Hg)\"].cast(IntegerType()))"
      ],
      "metadata": {
        "id": "c7npwEkh-98f"
      },
      "execution_count": 14,
      "outputs": []
    },
    {
      "cell_type": "markdown",
      "source": [
        "1. Some columns dropped\n",
        "2. Columns were renamed to provide clarity\n",
        "3. Male/Female o denoted by 1/0 respectively.\n",
        "4. Blood Pressure(mm Hg) column entries changed to integer type"
      ],
      "metadata": {
        "id": "VuWwJagqhJ5t"
      }
    },
    {
      "cell_type": "code",
      "source": [
        "ficdata.show()"
      ],
      "metadata": {
        "colab": {
          "base_uri": "https://localhost:8080/"
        },
        "id": "Y-6I84hVBXDH",
        "outputId": "384f61e7-dc28-4202-cfd2-b8dd61503a57"
      },
      "execution_count": 15,
      "outputs": [
        {
          "output_type": "stream",
          "name": "stdout",
          "text": [
            "+---+---+---------------------+------------------+--------------------------------+-----------+---------------------+---------------+-------------+-----------+-----------------------+--------+-------------+\n",
            "|Age|Sex|Blood Pressure(mm Hg)|Cholesterol(mg/dl)|Fasting Blood Sugar > 120(mg/dl)|Resting EKG|Max Resting Heartrate|Exercise Angina|ST depression|Slope of ST|Number of vessels fluro|Thallium|Heart Disease|\n",
            "+---+---+---------------------+------------------+--------------------------------+-----------+---------------------+---------------+-------------+-----------+-----------------------+--------+-------------+\n",
            "| 45|  0|                  100|               341|                               1|          2|                  136|              1|          3.0|          2|                      0|       7|            1|\n",
            "| 51|  0|                   90|               305|                               0|          0|                  142|              1|          1.2|          2|                      0|       7|            1|\n",
            "| 55|  0|                  100|               327|                               0|          1|                  117|              1|          3.4|          2|                      0|       3|            1|\n",
            "| 55|  0|                  160|               205|                               0|          1|                  130|              1|          2.0|          2|                      1|       7|            1|\n",
            "| 56|  0|                   90|               288|                               1|          2|                  133|              1|          4.0|          3|                      2|       7|            1|\n",
            "| 56|  0|                  140|               409|                               0|          2|                  150|              1|          1.9|          2|                      2|       7|            1|\n",
            "| 57|  0|                  120|               241|                               0|          0|                  123|              1|          0.2|          2|                      0|       7|            1|\n",
            "| 57|  0|                  100|               236|                               0|          2|                  174|              0|          0.0|          2|                      1|       3|            1|\n",
            "| 58|  0|                   90|               319|                               1|          2|                  152|              0|          0.0|          1|                      2|       3|            1|\n",
            "| 58|  0|                  100|               225|                               1|          2|                  146|              1|          2.8|          2|                      2|       6|            1|\n",
            "| 59|  0|                  160|               249|                               0|          0|                  143|              1|          0.0|          2|                      0|       3|            1|\n",
            "| 60|  0|                   90|               258|                               0|          2|                  157|              0|          2.6|          2|                      2|       7|            1|\n",
            "| 60|  0|                  140|               305|                               0|          2|                  161|              0|          0.0|          1|                      0|       3|            1|\n",
            "| 61|  0|                  120|               330|                               0|          2|                  169|              0|          0.0|          1|                      0|       3|            1|\n",
            "| 61|  0|                  100|               307|                               0|          2|                  146|              1|          1.0|          2|                      0|       7|            1|\n",
            "| 62|  0|                   90|               268|                               0|          2|                  160|              0|          3.6|          3|                      2|       3|            1|\n",
            "| 62|  0|                  100|               164|                               0|          2|                  145|              0|          6.2|          3|                      3|       7|            1|\n",
            "| 62|  0|                  160|               263|                               0|          0|                   97|              0|          1.2|          2|                      1|       7|            1|\n",
            "| 62|  0|                   90|               294|                               1|          0|                  106|              0|          1.9|          2|                      3|       3|            1|\n",
            "| 62|  0|                  140|               244|                               0|          0|                  154|              1|          1.4|          2|                      0|       3|            1|\n",
            "+---+---+---------------------+------------------+--------------------------------+-----------+---------------------+---------------+-------------+-----------+-----------------------+--------+-------------+\n",
            "only showing top 20 rows\n",
            "\n"
          ]
        }
      ]
    },
    {
      "cell_type": "code",
      "source": [
        "data.describe().show()"
      ],
      "metadata": {
        "colab": {
          "base_uri": "https://localhost:8080/"
        },
        "id": "MtzxdcoDh9Gy",
        "outputId": "79ea5077-c93d-4dd7-c418-6fdc1bb06cb7"
      },
      "execution_count": 16,
      "outputs": [
        {
          "output_type": "stream",
          "name": "stdout",
          "text": [
            "+-------+-----------------+------------------+---------------------+------------------+--------------------------------+------------------+---------------------+------------------+------------------+------------------+-----------------------+------------------+------------------+\n",
            "|summary|              Age|               Sex|Blood Pressure(mm Hg)|Cholesterol(mg/dl)|Fasting Blood Sugar > 120(mg/dl)|       Resting EKG|Max Resting Heartrate|   Exercise Angina|     ST depression|       Slope of ST|Number of vessels fluro|          Thallium|     Heart Disease|\n",
            "+-------+-----------------+------------------+---------------------+------------------+--------------------------------+------------------+---------------------+------------------+------------------+------------------+-----------------------+------------------+------------------+\n",
            "|  count|              270|               270|                  270|               270|                             270|               270|                  270|               270|               270|               270|                    270|               270|               270|\n",
            "|   mean|54.43333333333333|0.6777777777777778|   131.34444444444443|249.65925925925927|             0.14814814814814814|1.0222222222222221|   149.67777777777778|0.3296296296296296|1.0499999999999996|1.5851851851851853|     0.6703703703703704| 4.696296296296296|0.4444444444444444|\n",
            "| stddev|9.109066523898207|0.4681954071552696|   17.861608292800856| 51.68623711643123|             0.35590647697073136|0.9978912089661106|    23.16571677512012|0.4709515913013828| 1.145209839377997|0.6143898376781299|     0.9438963834881158|1.9406589693457779|0.4978267515886163|\n",
            "|    min|               29|                 0|                   94|               126|                               0|                 0|                   71|                 0|               0.0|                 1|                      0|                 3|                 0|\n",
            "|    max|               77|                 1|                  200|               564|                               1|                 2|                  202|                 1|               6.2|                 3|                      3|                 7|                 1|\n",
            "+-------+-----------------+------------------+---------------------+------------------+--------------------------------+------------------+---------------------+------------------+------------------+------------------+-----------------------+------------------+------------------+\n",
            "\n"
          ]
        }
      ]
    },
    {
      "cell_type": "markdown",
      "source": [
        "The describe method was used for both dataframes to check if there were errors inn the entries e.g Blood Pressure and Cholesterol cannot have a zero value"
      ],
      "metadata": {
        "id": "LUoRNH60X_cY"
      }
    },
    {
      "cell_type": "code",
      "source": [
        "ficdata.describe().show()"
      ],
      "metadata": {
        "colab": {
          "base_uri": "https://localhost:8080/"
        },
        "id": "HWvYM1miiDs6",
        "outputId": "178ad0b1-fd54-4314-e7e9-2847765d5e0e"
      },
      "execution_count": 17,
      "outputs": [
        {
          "output_type": "stream",
          "name": "stdout",
          "text": [
            "+-------+-----------------+------------------+---------------------+------------------+--------------------------------+------------------+---------------------+------------------+------------------+------------------+-----------------------+------------------+-------------+\n",
            "|summary|              Age|               Sex|Blood Pressure(mm Hg)|Cholesterol(mg/dl)|Fasting Blood Sugar > 120(mg/dl)|       Resting EKG|Max Resting Heartrate|   Exercise Angina|     ST depression|       Slope of ST|Number of vessels fluro|          Thallium|Heart Disease|\n",
            "+-------+-----------------+------------------+---------------------+------------------+--------------------------------+------------------+---------------------+------------------+------------------+------------------+-----------------------+------------------+-------------+\n",
            "|  count|              368|               368|                  368|               368|                             368|               368|                  368|               368|               368|               368|                    368|               368|          368|\n",
            "|   mean|54.29347826086956|0.7744565217391305|    120.5163043478261|248.94021739130434|             0.14130434782608695|1.0733695652173914|   140.92391304347825|            0.5625|1.5418478260869575|1.8423913043478262|      1.002717391304348| 5.858695652173913|          1.0|\n",
            "| stddev|8.718157997932263|0.4185087425452172|    24.55055964078033|50.126452761367695|              0.3488094735086515|0.9945615354469254|   22.994601283531818|0.4967537671493911|   1.3853806011427| 0.564283673738077|     1.0374424676063614|1.7443190577528809|          0.0|\n",
            "|    min|               24|                 0|                   80|               131|                               0|                 0|                   71|                 0|               0.0|                 1|                      0|                 3|            1|\n",
            "|    max|               77|                 1|                  190|               409|                               1|                 2|                  195|                 1|               6.2|                 3|                      3|                 7|            1|\n",
            "+-------+-----------------+------------------+---------------------+------------------+--------------------------------+------------------+---------------------+------------------+------------------+------------------+-----------------------+------------------+-------------+\n",
            "\n"
          ]
        }
      ]
    },
    {
      "cell_type": "markdown",
      "source": [
        "## **Feature Selection**"
      ],
      "metadata": {
        "id": "aCnvQ5ngyXkd"
      }
    },
    {
      "cell_type": "code",
      "source": [
        "for i in data.columns:\n",
        "  print(\"{} and Heart Disease = {}\".format(i,data.stat.corr(\"Heart Disease\",i)))"
      ],
      "metadata": {
        "colab": {
          "base_uri": "https://localhost:8080/"
        },
        "id": "mfMFogI3klp0",
        "outputId": "2669d57a-f5f7-4e12-d060-980e6a31781b"
      },
      "execution_count": 18,
      "outputs": [
        {
          "output_type": "stream",
          "name": "stdout",
          "text": [
            "Age and Heart Disease = 0.2123221874434284\n",
            "Sex and Heart Disease = 0.29772075572408496\n",
            "Blood Pressure(mm Hg) and Heart Disease = 0.1553826561757688\n",
            "Cholesterol(mg/dl) and Heart Disease = 0.11802053060517001\n",
            "Fasting Blood Sugar > 120(mg/dl) and Heart Disease = -0.016318834144205503\n",
            "Resting EKG and Heart Disease = 0.18209075568278285\n",
            "Max Resting Heartrate and Heart Disease = -0.4185139653265933\n",
            "Exercise Angina and Heart Disease = 0.4193027091902966\n",
            "ST depression and Heart Disease = 0.4179674372274274\n",
            "Slope of ST and Heart Disease = 0.33761595723299065\n",
            "Number of vessels fluro and Heart Disease = 0.45533645047270893\n",
            "Thallium and Heart Disease = 0.5250203329618742\n",
            "Heart Disease and Heart Disease = 1.0\n"
          ]
        }
      ]
    },
    {
      "cell_type": "markdown",
      "source": [
        "We will be keeping all the columns as features as no column is completely redundant in dictating presence/absence of heart disease. This is evident from the correlation between each feature and the Diagnosis."
      ],
      "metadata": {
        "id": "HQmiEz5r2ToC"
      }
    },
    {
      "cell_type": "markdown",
      "source": [
        "##  **Creating a Feature Vector Column using Vector Assembler**\n",
        "\n",
        "Merging multiple columns to a vector column."
      ],
      "metadata": {
        "id": "hqvXptgl241A"
      }
    },
    {
      "cell_type": "code",
      "source": [
        "data.columns"
      ],
      "metadata": {
        "colab": {
          "base_uri": "https://localhost:8080/"
        },
        "id": "BgTw2vpF4Hhz",
        "outputId": "b076b6a9-46ae-4e36-c6f4-e1d979d1f741"
      },
      "execution_count": 19,
      "outputs": [
        {
          "output_type": "execute_result",
          "data": {
            "text/plain": [
              "['Age',\n",
              " 'Sex',\n",
              " 'Blood Pressure(mm Hg)',\n",
              " 'Cholesterol(mg/dl)',\n",
              " 'Fasting Blood Sugar > 120(mg/dl)',\n",
              " 'Resting EKG',\n",
              " 'Max Resting Heartrate',\n",
              " 'Exercise Angina',\n",
              " 'ST depression',\n",
              " 'Slope of ST',\n",
              " 'Number of vessels fluro',\n",
              " 'Thallium',\n",
              " 'Heart Disease']"
            ]
          },
          "metadata": {},
          "execution_count": 19
        }
      ]
    },
    {
      "cell_type": "code",
      "source": [
        "featuremaker=VectorAssembler(inputCols=['Age','Sex','Blood Pressure(mm Hg)','Cholesterol(mg/dl)','Fasting Blood Sugar > 120(mg/dl)','Resting EKG','Max Resting Heartrate','Exercise Angina','ST depression','Slope of ST','Number of vessels fluro','Thallium'],outputCol='Features as Vectors')"
      ],
      "metadata": {
        "id": "BhnjB3Fkzj3K"
      },
      "execution_count": 20,
      "outputs": []
    },
    {
      "cell_type": "code",
      "source": [
        "readyforml=featuremaker.transform(data)"
      ],
      "metadata": {
        "id": "MIDVq5vi4ZWl"
      },
      "execution_count": 21,
      "outputs": []
    },
    {
      "cell_type": "code",
      "source": [
        "readyforml.select('Features as Vectors').show()"
      ],
      "metadata": {
        "colab": {
          "base_uri": "https://localhost:8080/"
        },
        "id": "0WJNDYNG4wuo",
        "outputId": "0f03220a-8f51-4708-c304-b5c3b78703e4"
      },
      "execution_count": 22,
      "outputs": [
        {
          "output_type": "stream",
          "name": "stdout",
          "text": [
            "+--------------------+\n",
            "| Features as Vectors|\n",
            "+--------------------+\n",
            "|[70.0,1.0,130.0,3...|\n",
            "|[67.0,0.0,115.0,5...|\n",
            "|[57.0,1.0,124.0,2...|\n",
            "|[64.0,1.0,128.0,2...|\n",
            "|[74.0,0.0,120.0,2...|\n",
            "|[65.0,1.0,120.0,1...|\n",
            "|[56.0,1.0,130.0,2...|\n",
            "|[59.0,1.0,110.0,2...|\n",
            "|[60.0,1.0,140.0,2...|\n",
            "|[63.0,0.0,150.0,4...|\n",
            "|[59.0,1.0,135.0,2...|\n",
            "|[53.0,1.0,142.0,2...|\n",
            "|[44.0,1.0,140.0,2...|\n",
            "|[61.0,1.0,134.0,2...|\n",
            "|[57.0,0.0,128.0,3...|\n",
            "|[71.0,0.0,112.0,1...|\n",
            "|[46.0,1.0,140.0,3...|\n",
            "|[53.0,1.0,140.0,2...|\n",
            "|[64.0,1.0,110.0,2...|\n",
            "|[40.0,1.0,140.0,1...|\n",
            "+--------------------+\n",
            "only showing top 20 rows\n",
            "\n"
          ]
        }
      ]
    },
    {
      "cell_type": "markdown",
      "source": [
        "The above column has been generated from the dataframe and called \"Features as vectors\" (Last column) which contains data points from all the columns for each individual."
      ],
      "metadata": {
        "id": "jn90xKo95qZJ"
      }
    },
    {
      "cell_type": "markdown",
      "source": [
        "## **Importing and Training Machine Learning Model**\n",
        "As this is a classification problem i.e a person has Heart Disease or not, we will be using the Logistic regression model."
      ],
      "metadata": {
        "id": "B5Cev1uS7KIU"
      }
    },
    {
      "cell_type": "code",
      "source": [
        "from pyspark.ml.classification import LogisticRegression"
      ],
      "metadata": {
        "id": "cuDszOlf7Et6"
      },
      "execution_count": 23,
      "outputs": []
    },
    {
      "cell_type": "code",
      "source": [
        "mldata=readyforml.select('Features as Vectors','Heart Disease')"
      ],
      "metadata": {
        "id": "IV-ZY7nj5OK4"
      },
      "execution_count": 24,
      "outputs": []
    },
    {
      "cell_type": "markdown",
      "source": [
        "We will train the model on a part of the \"Cardiac Health Dataset\" and test it on the remaining part. Then we will test the model on the FIC Heart Condtions\" Dataset."
      ],
      "metadata": {
        "id": "C_LPRB5I8Hgy"
      }
    },
    {
      "cell_type": "code",
      "source": [
        "trainingdata,testingdata=mldata.randomSplit([0.8,0.2])"
      ],
      "metadata": {
        "id": "1XOE9iL18CaJ"
      },
      "execution_count": 25,
      "outputs": []
    },
    {
      "cell_type": "code",
      "source": [
        "heartmodel=LogisticRegression(labelCol='Heart Disease',featuresCol=\"Features as Vectors\")"
      ],
      "metadata": {
        "id": "cv5Bu30W9d_S"
      },
      "execution_count": 26,
      "outputs": []
    },
    {
      "cell_type": "code",
      "source": [
        "hdp=heartmodel.fit(trainingdata)"
      ],
      "metadata": {
        "id": "apl3PpUL-hvO"
      },
      "execution_count": 27,
      "outputs": []
    },
    {
      "cell_type": "code",
      "source": [
        "summary=hdp.summary"
      ],
      "metadata": {
        "id": "-tEnRoH6a75b"
      },
      "execution_count": 28,
      "outputs": []
    },
    {
      "cell_type": "code",
      "source": [
        "summary.predictions.describe().show()"
      ],
      "metadata": {
        "colab": {
          "base_uri": "https://localhost:8080/"
        },
        "id": "IxDIxo8_BF67",
        "outputId": "7e6e993c-c818-4012-c042-bd3edf79b169"
      },
      "execution_count": 29,
      "outputs": [
        {
          "output_type": "stream",
          "name": "stdout",
          "text": [
            "+-------+-------------------+-------------------+\n",
            "|summary|      Heart Disease|         prediction|\n",
            "+-------+-------------------+-------------------+\n",
            "|  count|                218|                218|\n",
            "|   mean|0.42660550458715596|0.41284403669724773|\n",
            "| stddev|0.49572219844795723|0.49347837484425744|\n",
            "|    min|                0.0|                0.0|\n",
            "|    max|                1.0|                1.0|\n",
            "+-------+-------------------+-------------------+\n",
            "\n"
          ]
        }
      ]
    },
    {
      "cell_type": "markdown",
      "source": [
        "## **Evaluation and Testing of Model - Cardiac Health Dataset**\n",
        "\n",
        "\n"
      ],
      "metadata": {
        "id": "HXf6WcegBSt_"
      }
    },
    {
      "cell_type": "code",
      "source": [
        "from pyspark.ml.evaluation import BinaryClassificationEvaluator"
      ],
      "metadata": {
        "id": "qLloXhn-BJhv"
      },
      "execution_count": 30,
      "outputs": []
    },
    {
      "cell_type": "code",
      "source": [
        "predictions1=hdp.evaluate(testingdata)"
      ],
      "metadata": {
        "id": "pIfyf2QNF5Xa"
      },
      "execution_count": 31,
      "outputs": []
    },
    {
      "cell_type": "code",
      "source": [
        "predictions1.predictions.show(20)"
      ],
      "metadata": {
        "colab": {
          "base_uri": "https://localhost:8080/"
        },
        "id": "lAE54IJzGVmB",
        "outputId": "21c2be91-2ba8-4791-c614-0d1c0656e7c1"
      },
      "execution_count": 32,
      "outputs": [
        {
          "output_type": "stream",
          "name": "stdout",
          "text": [
            "+--------------------+-------------+--------------------+--------------------+----------+\n",
            "| Features as Vectors|Heart Disease|       rawPrediction|         probability|prediction|\n",
            "+--------------------+-------------+--------------------+--------------------+----------+\n",
            "|(12,[0,2,3,6,9,11...|            0|[5.42219717339242...|[0.99560199775022...|       0.0|\n",
            "|(12,[0,2,3,6,9,11...|            0|[4.04010987917666...|[0.98270871062913...|       0.0|\n",
            "|(12,[0,2,3,6,9,11...|            0|[5.07519489675048...|[0.99378895000222...|       0.0|\n",
            "|[34.0,0.0,118.0,2...|            0|[4.98577388663885...|[0.99321190627510...|       0.0|\n",
            "|[35.0,1.0,126.0,2...|            1|[-0.5547385791837...|[0.36476572279464...|       1.0|\n",
            "|[40.0,1.0,152.0,2...|            1|[1.96951919854923...|[0.87755946098982...|       0.0|\n",
            "|[41.0,1.0,112.0,2...|            0|[3.77253472112344...|[0.97752312005992...|       0.0|\n",
            "|[42.0,1.0,120.0,2...|            0|[2.22811873174028...|[0.90274631740333...|       0.0|\n",
            "|[42.0,1.0,140.0,2...|            0|[3.52761876441823...|[0.97146347329531...|       0.0|\n",
            "|[43.0,0.0,132.0,3...|            1|[-1.4880949303882...|[0.18420784013568...|       1.0|\n",
            "|[44.0,1.0,112.0,2...|            1|[1.00828411928635...|[0.73268421438453...|       0.0|\n",
            "|[44.0,1.0,120.0,2...|            0|[3.58718793309794...|[0.97306928768942...|       0.0|\n",
            "|[44.0,1.0,120.0,2...|            0|[1.94873157855508...|[0.87530826748892...|       0.0|\n",
            "|[46.0,1.0,101.0,1...|            0|[3.09170752941517...|[0.95654938985173...|       0.0|\n",
            "|[47.0,1.0,108.0,2...|            1|[3.22985194615561...|[0.96194233315492...|       0.0|\n",
            "|[47.0,1.0,110.0,2...|            1|[-1.7142035004280...|[0.15261929698153...|       1.0|\n",
            "|[48.0,1.0,130.0,2...|            1|[-1.9276856572792...|[0.12700696420369...|       1.0|\n",
            "|[49.0,1.0,118.0,1...|            1|[-1.3586738437816...|[0.20445592195597...|       1.0|\n",
            "|[50.0,0.0,110.0,2...|            0|[3.59104038674784...|[0.97317005918882...|       0.0|\n",
            "|[51.0,1.0,125.0,2...|            0|[-1.1054645689978...|[0.24871739964104...|       1.0|\n",
            "+--------------------+-------------+--------------------+--------------------+----------+\n",
            "only showing top 20 rows\n",
            "\n"
          ]
        }
      ]
    },
    {
      "cell_type": "code",
      "source": [
        "predictions1.predictions.describe().show()"
      ],
      "metadata": {
        "colab": {
          "base_uri": "https://localhost:8080/"
        },
        "id": "q47RiWhoJSpu",
        "outputId": "62ad2c76-8a95-417b-d114-b6f66d93a69e"
      },
      "execution_count": 33,
      "outputs": [
        {
          "output_type": "stream",
          "name": "stdout",
          "text": [
            "+-------+------------------+-------------------+\n",
            "|summary|     Heart Disease|         prediction|\n",
            "+-------+------------------+-------------------+\n",
            "|  count|                52|                 52|\n",
            "|   mean|0.5192307692307693|0.46153846153846156|\n",
            "| stddev|0.5045045954972344| 0.5033822257076337|\n",
            "|    min|                 0|                0.0|\n",
            "|    max|                 1|                1.0|\n",
            "+-------+------------------+-------------------+\n",
            "\n"
          ]
        }
      ]
    },
    {
      "cell_type": "code",
      "source": [
        "evaluator=BinaryClassificationEvaluator(rawPredictionCol=\"rawPrediction\",labelCol='Heart Disease')"
      ],
      "metadata": {
        "id": "GnqvHqNyJcnA"
      },
      "execution_count": 34,
      "outputs": []
    },
    {
      "cell_type": "code",
      "source": [
        "evaluator.evaluate(hdp.transform(testingdata))"
      ],
      "metadata": {
        "colab": {
          "base_uri": "https://localhost:8080/"
        },
        "id": "5WkabKdNJp2-",
        "outputId": "370ff9b5-d8e5-4f3b-a619-45997dc738ac"
      },
      "execution_count": 35,
      "outputs": [
        {
          "output_type": "execute_result",
          "data": {
            "text/plain": [
              "0.9037037037037038"
            ]
          },
          "metadata": {},
          "execution_count": 35
        }
      ]
    },
    {
      "cell_type": "markdown",
      "source": [
        "This number is the accuracy of our model. How successful it was in predicting the correct label. It was fairly successful in evaluating them correctly. Now we will test the model on THE FIC dataset."
      ],
      "metadata": {
        "id": "noQsLTm6J5re"
      }
    },
    {
      "cell_type": "markdown",
      "source": [
        "## **Evaluation and Testing of Model - FIC Heart Conditions Dataset**\n",
        "\n",
        "All the people in the FIC Dataset were diagnosed with Heart Disease. Lets see how successfil is our model in predicting all of the labels correctly.\n",
        "\n",
        "\n"
      ],
      "metadata": {
        "id": "dH7WejQ-IRLR"
      }
    },
    {
      "cell_type": "code",
      "source": [
        "ficdata.show()"
      ],
      "metadata": {
        "colab": {
          "base_uri": "https://localhost:8080/"
        },
        "id": "77YspsqUMJWl",
        "outputId": "4a9dae50-eebc-4d3b-965e-d543416ce7e8"
      },
      "execution_count": 36,
      "outputs": [
        {
          "output_type": "stream",
          "name": "stdout",
          "text": [
            "+---+---+---------------------+------------------+--------------------------------+-----------+---------------------+---------------+-------------+-----------+-----------------------+--------+-------------+\n",
            "|Age|Sex|Blood Pressure(mm Hg)|Cholesterol(mg/dl)|Fasting Blood Sugar > 120(mg/dl)|Resting EKG|Max Resting Heartrate|Exercise Angina|ST depression|Slope of ST|Number of vessels fluro|Thallium|Heart Disease|\n",
            "+---+---+---------------------+------------------+--------------------------------+-----------+---------------------+---------------+-------------+-----------+-----------------------+--------+-------------+\n",
            "| 45|  0|                  100|               341|                               1|          2|                  136|              1|          3.0|          2|                      0|       7|            1|\n",
            "| 51|  0|                   90|               305|                               0|          0|                  142|              1|          1.2|          2|                      0|       7|            1|\n",
            "| 55|  0|                  100|               327|                               0|          1|                  117|              1|          3.4|          2|                      0|       3|            1|\n",
            "| 55|  0|                  160|               205|                               0|          1|                  130|              1|          2.0|          2|                      1|       7|            1|\n",
            "| 56|  0|                   90|               288|                               1|          2|                  133|              1|          4.0|          3|                      2|       7|            1|\n",
            "| 56|  0|                  140|               409|                               0|          2|                  150|              1|          1.9|          2|                      2|       7|            1|\n",
            "| 57|  0|                  120|               241|                               0|          0|                  123|              1|          0.2|          2|                      0|       7|            1|\n",
            "| 57|  0|                  100|               236|                               0|          2|                  174|              0|          0.0|          2|                      1|       3|            1|\n",
            "| 58|  0|                   90|               319|                               1|          2|                  152|              0|          0.0|          1|                      2|       3|            1|\n",
            "| 58|  0|                  100|               225|                               1|          2|                  146|              1|          2.8|          2|                      2|       6|            1|\n",
            "| 59|  0|                  160|               249|                               0|          0|                  143|              1|          0.0|          2|                      0|       3|            1|\n",
            "| 60|  0|                   90|               258|                               0|          2|                  157|              0|          2.6|          2|                      2|       7|            1|\n",
            "| 60|  0|                  140|               305|                               0|          2|                  161|              0|          0.0|          1|                      0|       3|            1|\n",
            "| 61|  0|                  120|               330|                               0|          2|                  169|              0|          0.0|          1|                      0|       3|            1|\n",
            "| 61|  0|                  100|               307|                               0|          2|                  146|              1|          1.0|          2|                      0|       7|            1|\n",
            "| 62|  0|                   90|               268|                               0|          2|                  160|              0|          3.6|          3|                      2|       3|            1|\n",
            "| 62|  0|                  100|               164|                               0|          2|                  145|              0|          6.2|          3|                      3|       7|            1|\n",
            "| 62|  0|                  160|               263|                               0|          0|                   97|              0|          1.2|          2|                      1|       7|            1|\n",
            "| 62|  0|                   90|               294|                               1|          0|                  106|              0|          1.9|          2|                      3|       3|            1|\n",
            "| 62|  0|                  140|               244|                               0|          0|                  154|              1|          1.4|          2|                      0|       3|            1|\n",
            "+---+---+---------------------+------------------+--------------------------------+-----------+---------------------+---------------+-------------+-----------+-----------------------+--------+-------------+\n",
            "only showing top 20 rows\n",
            "\n"
          ]
        }
      ]
    },
    {
      "cell_type": "code",
      "source": [
        "ficdata.columns"
      ],
      "metadata": {
        "colab": {
          "base_uri": "https://localhost:8080/"
        },
        "id": "G0D-jwVCLBYC",
        "outputId": "c8f99155-2dc9-423f-b130-e58e19a829fb"
      },
      "execution_count": 37,
      "outputs": [
        {
          "output_type": "execute_result",
          "data": {
            "text/plain": [
              "['Age',\n",
              " 'Sex',\n",
              " 'Blood Pressure(mm Hg)',\n",
              " 'Cholesterol(mg/dl)',\n",
              " 'Fasting Blood Sugar > 120(mg/dl)',\n",
              " 'Resting EKG',\n",
              " 'Max Resting Heartrate',\n",
              " 'Exercise Angina',\n",
              " 'ST depression',\n",
              " 'Slope of ST',\n",
              " 'Number of vessels fluro',\n",
              " 'Thallium',\n",
              " 'Heart Disease']"
            ]
          },
          "metadata": {},
          "execution_count": 37
        }
      ]
    },
    {
      "cell_type": "code",
      "source": [
        "featuremaker=VectorAssembler(inputCols=['Age','Sex','Blood Pressure(mm Hg)','Cholesterol(mg/dl)','Fasting Blood Sugar > 120(mg/dl)','Resting EKG','Max Resting Heartrate','Exercise Angina','ST depression','Slope of ST','Number of vessels fluro','Thallium'],outputCol='Features as Vectors')"
      ],
      "metadata": {
        "id": "8tVfYnDyQbft"
      },
      "execution_count": 38,
      "outputs": []
    },
    {
      "cell_type": "code",
      "source": [
        "ficreadyforml=featuremaker.transform(ficdata)"
      ],
      "metadata": {
        "id": "ihWojVoeQodv"
      },
      "execution_count": 39,
      "outputs": []
    },
    {
      "cell_type": "code",
      "source": [
        "ficreadyforml.select('Features as Vectors').show()"
      ],
      "metadata": {
        "colab": {
          "base_uri": "https://localhost:8080/"
        },
        "id": "U4fmTqsUQtp3",
        "outputId": "1f458834-bf12-4e68-cdb0-c0bfe7c7d472"
      },
      "execution_count": 40,
      "outputs": [
        {
          "output_type": "stream",
          "name": "stdout",
          "text": [
            "+--------------------+\n",
            "| Features as Vectors|\n",
            "+--------------------+\n",
            "|[45.0,0.0,100.0,3...|\n",
            "|[51.0,0.0,90.0,30...|\n",
            "|[55.0,0.0,100.0,3...|\n",
            "|[55.0,0.0,160.0,2...|\n",
            "|[56.0,0.0,90.0,28...|\n",
            "|[56.0,0.0,140.0,4...|\n",
            "|[57.0,0.0,120.0,2...|\n",
            "|[57.0,0.0,100.0,2...|\n",
            "|[58.0,0.0,90.0,31...|\n",
            "|[58.0,0.0,100.0,2...|\n",
            "|[59.0,0.0,160.0,2...|\n",
            "|[60.0,0.0,90.0,25...|\n",
            "|[60.0,0.0,140.0,3...|\n",
            "|[61.0,0.0,120.0,3...|\n",
            "|[61.0,0.0,100.0,3...|\n",
            "|[62.0,0.0,90.0,26...|\n",
            "|[62.0,0.0,100.0,1...|\n",
            "|[62.0,0.0,160.0,2...|\n",
            "|[62.0,0.0,90.0,29...|\n",
            "|[62.0,0.0,140.0,2...|\n",
            "+--------------------+\n",
            "only showing top 20 rows\n",
            "\n"
          ]
        }
      ]
    },
    {
      "cell_type": "code",
      "source": [
        "ffdata=ficreadyforml.select('Features as Vectors','Heart Disease')\n",
        "predictions2=hdp.evaluate(ffdata)\n",
        "predictions2.predictions.describe().show(20)\n"
      ],
      "metadata": {
        "id": "o8ffPiwXQwSL",
        "colab": {
          "base_uri": "https://localhost:8080/"
        },
        "outputId": "34f5383d-36fd-4796-9db5-90a3210fc88c"
      },
      "execution_count": 41,
      "outputs": [
        {
          "output_type": "stream",
          "name": "stdout",
          "text": [
            "+-------+-------------+------------------+\n",
            "|summary|Heart Disease|        prediction|\n",
            "+-------+-------------+------------------+\n",
            "|  count|          368|               368|\n",
            "|   mean|          1.0|0.7445652173913043|\n",
            "| stddev|          0.0|0.4366990697024343|\n",
            "|    min|            1|               0.0|\n",
            "|    max|            1|               1.0|\n",
            "+-------+-------------+------------------+\n",
            "\n"
          ]
        }
      ]
    },
    {
      "cell_type": "code",
      "source": [
        "predictions2.predictions.show(20)"
      ],
      "metadata": {
        "colab": {
          "base_uri": "https://localhost:8080/"
        },
        "id": "DtxbHLoAQ88r",
        "outputId": "28abe53e-01f0-4070-9a6e-db8cdf024d54"
      },
      "execution_count": 42,
      "outputs": [
        {
          "output_type": "stream",
          "name": "stdout",
          "text": [
            "+--------------------+-------------+--------------------+--------------------+----------+\n",
            "| Features as Vectors|Heart Disease|       rawPrediction|         probability|prediction|\n",
            "+--------------------+-------------+--------------------+--------------------+----------+\n",
            "|[45.0,0.0,100.0,3...|            1|[-1.0468751829600...|[0.25982560277479...|       1.0|\n",
            "|[51.0,0.0,90.0,30...|            1|[0.28589069097959...|[0.57098980973713...|       0.0|\n",
            "|[55.0,0.0,100.0,3...|            1|[-0.5702691636531...|[0.36117471906292...|       1.0|\n",
            "|[55.0,0.0,160.0,2...|            1|[-2.1583326052281...|[0.10355513587861...|       1.0|\n",
            "|[56.0,0.0,90.0,28...|            1|[-3.7207621957189...|[0.02364297724985...|       1.0|\n",
            "|[56.0,0.0,140.0,4...|            1|[-4.2205025625215...|[0.01447855122161...|       1.0|\n",
            "|[57.0,0.0,120.0,2...|            1|[0.34260705680107...|[0.58482366887448...|       0.0|\n",
            "|[57.0,0.0,100.0,2...|            1|[2.69932385037531...|[0.93698673410870...|       0.0|\n",
            "|[58.0,0.0,90.0,31...|            1|[1.90203556870588...|[0.87012173841506...|       0.0|\n",
            "|[58.0,0.0,100.0,2...|            1|[-1.7435348814703...|[0.14886449526748...|       1.0|\n",
            "|[59.0,0.0,160.0,2...|            1|[1.80462313691696...|[0.85871077522686...|       0.0|\n",
            "|[60.0,0.0,90.0,25...|            1|[-1.5721308657514...|[0.17191283211404...|       1.0|\n",
            "|[60.0,0.0,140.0,3...|            1|[2.89115846419782...|[0.94740763360283...|       0.0|\n",
            "|[61.0,0.0,120.0,3...|            1|[3.19005203395434...|[0.96045819665487...|       0.0|\n",
            "|[61.0,0.0,100.0,3...|            1|[-0.4288170293301...|[0.39440884939217...|       1.0|\n",
            "|[62.0,0.0,90.0,26...|            1|[-0.9855391341117...|[0.27179408207274...|       1.0|\n",
            "|[62.0,0.0,100.0,1...|            1|[-4.6322616718628...|[0.00963890914514...|       1.0|\n",
            "|[62.0,0.0,160.0,2...|            1|[-1.4598787250661...|[0.18848587459952...|       1.0|\n",
            "|[62.0,0.0,90.0,29...|            1|[-0.7108058001296...|[0.32942081227323...|       1.0|\n",
            "|[62.0,0.0,140.0,2...|            1|[1.69911247287792...|[0.84541878322227...|       0.0|\n",
            "+--------------------+-------------+--------------------+--------------------+----------+\n",
            "only showing top 20 rows\n",
            "\n"
          ]
        }
      ]
    },
    {
      "cell_type": "code",
      "source": [],
      "metadata": {
        "id": "K2ruOMQXqecK"
      },
      "execution_count": 42,
      "outputs": []
    }
  ]
}