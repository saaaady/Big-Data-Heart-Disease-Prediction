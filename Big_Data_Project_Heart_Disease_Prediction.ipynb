{
  "nbformat": 4,
  "nbformat_minor": 0,
  "metadata": {
    "colab": {
      "provenance": [],
      "authorship_tag": "ABX9TyNy2gSFyROGtd+iD3vOcrzb",
      "include_colab_link": true
    },
    "kernelspec": {
      "name": "python3",
      "display_name": "Python 3"
    },
    "language_info": {
      "name": "python"
    }
  },
  "cells": [
    {
      "cell_type": "markdown",
      "metadata": {
        "id": "view-in-github",
        "colab_type": "text"
      },
      "source": [
        "<a href=\"https://colab.research.google.com/github/saaaady/Big-Data-Heart-Disease-Prediction/blob/main/Big_Data_Project_Heart_Disease_Prediction.ipynb\" target=\"_parent\"><img src=\"https://colab.research.google.com/assets/colab-badge.svg\" alt=\"Open In Colab\"/></a>"
      ]
    },
    {
      "cell_type": "markdown",
      "source": [
        "# **Heart Disease Prediction - Big Data**"
      ],
      "metadata": {
        "id": "9kGYQU66i3Mm"
      }
    },
    {
      "cell_type": "markdown",
      "source": [
        "## **Creating a Spark Session and reading the CSVs**\n",
        "\n",
        "Two .csv files will be imported from the Github repository.\n",
        "The data will be cleaned and then the model will be trained/tested on\n",
        "\"Cardiac Health Dataset.csv\".\n",
        "Then the model will be tested on the \"FIC Heart Conditions Dataset.csv\" dataset."
      ],
      "metadata": {
        "id": "Gndcq4L5ZaNm"
      }
    },
    {
      "cell_type": "code",
      "source": [
        "from pyspark.sql import SparkSession\n",
        "from pyspark.sql.types import IntegerType\n",
        "from pyspark.ml.feature import VectorAssembler"
      ],
      "metadata": {
        "id": "6KfJpNDgIiD2"
      },
      "execution_count": 185,
      "outputs": []
    },
    {
      "cell_type": "code",
      "source": [
        "spark=SparkSession.builder.appName(\"Project\").getOrCreate()"
      ],
      "metadata": {
        "id": "YzZJRMnQZik1"
      },
      "execution_count": 186,
      "outputs": []
    },
    {
      "cell_type": "code",
      "source": [
        "! git clone https://github.com/saaaady/Big-Data-Heart-Disease-Prediction"
      ],
      "metadata": {
        "colab": {
          "base_uri": "https://localhost:8080/"
        },
        "id": "SpIrwCD8Z6sC",
        "outputId": "5020c9e8-70c8-4434-b91e-57ad8b5bc2cb"
      },
      "execution_count": 187,
      "outputs": [
        {
          "output_type": "stream",
          "name": "stdout",
          "text": [
            "Cloning into 'Big-Data-Heart-Disease-Prediction'...\n",
            "remote: Enumerating objects: 17, done.\u001b[K\n",
            "remote: Counting objects:   5% (1/17)\u001b[K\rremote: Counting objects:  11% (2/17)\u001b[K\rremote: Counting objects:  17% (3/17)\u001b[K\rremote: Counting objects:  23% (4/17)\u001b[K\rremote: Counting objects:  29% (5/17)\u001b[K\rremote: Counting objects:  35% (6/17)\u001b[K\rremote: Counting objects:  41% (7/17)\u001b[K\rremote: Counting objects:  47% (8/17)\u001b[K\rremote: Counting objects:  52% (9/17)\u001b[K\rremote: Counting objects:  58% (10/17)\u001b[K\rremote: Counting objects:  64% (11/17)\u001b[K\rremote: Counting objects:  70% (12/17)\u001b[K\rremote: Counting objects:  76% (13/17)\u001b[K\rremote: Counting objects:  82% (14/17)\u001b[K\rremote: Counting objects:  88% (15/17)\u001b[K\rremote: Counting objects:  94% (16/17)\u001b[K\rremote: Counting objects: 100% (17/17)\u001b[K\rremote: Counting objects: 100% (17/17), done.\u001b[K\n",
            "remote: Compressing objects:   6% (1/16)\u001b[K\rremote: Compressing objects:  12% (2/16)\u001b[K\rremote: Compressing objects:  18% (3/16)\u001b[K\rremote: Compressing objects:  25% (4/16)\u001b[K\rremote: Compressing objects:  31% (5/16)\u001b[K\rremote: Compressing objects:  37% (6/16)\u001b[K\rremote: Compressing objects:  43% (7/16)\u001b[K\rremote: Compressing objects:  50% (8/16)\u001b[K\rremote: Compressing objects:  56% (9/16)\u001b[K\rremote: Compressing objects:  62% (10/16)\u001b[K\rremote: Compressing objects:  68% (11/16)\u001b[K\rremote: Compressing objects:  75% (12/16)\u001b[K\rremote: Compressing objects:  81% (13/16)\u001b[K\rremote: Compressing objects:  87% (14/16)\u001b[K\rremote: Compressing objects:  93% (15/16)\u001b[K\rremote: Compressing objects: 100% (16/16)\u001b[K\rremote: Compressing objects: 100% (16/16), done.\u001b[K\n",
            "remote: Total 17 (delta 1), reused 0 (delta 0), pack-reused 0 (from 0)\u001b[K\n",
            "Receiving objects:   5% (1/17)\rReceiving objects:  11% (2/17)\rReceiving objects:  17% (3/17)\rReceiving objects:  23% (4/17)\rReceiving objects:  29% (5/17)\rReceiving objects:  35% (6/17)\rReceiving objects:  41% (7/17)\rReceiving objects:  47% (8/17)\rReceiving objects:  52% (9/17)\rReceiving objects:  58% (10/17)\rReceiving objects:  64% (11/17)\rReceiving objects:  70% (12/17)\rReceiving objects:  76% (13/17)\rReceiving objects:  82% (14/17)\rReceiving objects:  88% (15/17)\rReceiving objects:  94% (16/17)\rReceiving objects: 100% (17/17)\rReceiving objects: 100% (17/17), 18.67 KiB | 2.33 MiB/s, done.\n",
            "Resolving deltas:   0% (0/1)\rResolving deltas: 100% (1/1)\rResolving deltas: 100% (1/1), done.\n"
          ]
        }
      ]
    },
    {
      "cell_type": "code",
      "source": [
        "ls"
      ],
      "metadata": {
        "colab": {
          "base_uri": "https://localhost:8080/"
        },
        "id": "lavOwn2VlRJp",
        "outputId": "a9475d61-b8ff-4819-cbeb-d262ea484777"
      },
      "execution_count": 188,
      "outputs": [
        {
          "output_type": "stream",
          "name": "stdout",
          "text": [
            " \u001b[0m\u001b[01;34mBig-Data-Heart-Disease-Prediction\u001b[0m/          'FIC Heart Conditions Dataset (Test).csv'\n",
            "'Cardiac Health Dataset (Train & Test).csv'\n"
          ]
        }
      ]
    },
    {
      "cell_type": "code",
      "source": [
        "cd Big-Data-Heart-Disease-Prediction/"
      ],
      "metadata": {
        "colab": {
          "base_uri": "https://localhost:8080/"
        },
        "id": "V-BJVIxllSCe",
        "outputId": "bf8e89ab-1dfb-4b4a-ee00-540df0bcaf5c"
      },
      "execution_count": 189,
      "outputs": [
        {
          "output_type": "stream",
          "name": "stdout",
          "text": [
            "/content/Big-Data-Heart-Disease-Prediction/Big-Data-Heart-Disease-Prediction\n"
          ]
        }
      ]
    },
    {
      "cell_type": "code",
      "source": [
        "ls"
      ],
      "metadata": {
        "colab": {
          "base_uri": "https://localhost:8080/"
        },
        "id": "yESLz9hjli0m",
        "outputId": "fc8822df-42c6-4ae4-9c34-fa6a246319cf"
      },
      "execution_count": 190,
      "outputs": [
        {
          "output_type": "stream",
          "name": "stdout",
          "text": [
            "'Cardiac Health Dataset (Train & Test).csv'  'FIC Heart Conditions Dataset (Test).csv'\n"
          ]
        }
      ]
    },
    {
      "cell_type": "code",
      "source": [
        "data=spark.read.csv('/content/Big-Data-Heart-Disease-Prediction/Cardiac Health Dataset (Train & Test).csv',header=True,inferSchema=True)\n",
        "ficdata=spark.read.csv('/content/Big-Data-Heart-Disease-Prediction/FIC Heart Conditions Dataset (Test).csv',header=True,inferSchema=True)"
      ],
      "metadata": {
        "id": "GZ4kUeRXljZ_"
      },
      "execution_count": 191,
      "outputs": []
    },
    {
      "cell_type": "code",
      "source": [
        "data.show()"
      ],
      "metadata": {
        "id": "IqxQ_FyxltRJ"
      },
      "execution_count": null,
      "outputs": []
    },
    {
      "cell_type": "code",
      "source": [
        "ficdata.show()"
      ],
      "metadata": {
        "id": "5Daldnsw3idN"
      },
      "execution_count": null,
      "outputs": []
    },
    {
      "cell_type": "markdown",
      "source": [
        "## **Cleaning the Raw datasets**\n",
        "The datasets have incorrectly labeled columns and missing data/Null value entries. The FIC dataset has extra columns which we will not be using as features which will be trimmed."
      ],
      "metadata": {
        "id": "a9SRCbo-8wMe"
      }
    },
    {
      "cell_type": "markdown",
      "source": [
        "**Cardiac Health Dataset Cleaning**"
      ],
      "metadata": {
        "id": "ZgwrHTlPgUq4"
      }
    },
    {
      "cell_type": "code",
      "source": [
        "data.show()"
      ],
      "metadata": {
        "colab": {
          "base_uri": "https://localhost:8080/"
        },
        "id": "Ga543bIDChD1",
        "outputId": "88418940-e697-454a-e954-f14759c3c4f3"
      },
      "execution_count": 72,
      "outputs": [
        {
          "output_type": "stream",
          "name": "stdout",
          "text": [
            "+---+---+---------------+---+-----------+------------+-----------+------+---------------+-------------+-----------+-----------------------+--------+-------------+\n",
            "|Age|Sex|Chest pain type| BP|Cholesterol|FBS over 120|EKG results|Max HR|Exercise angina|ST depression|Slope of ST|Number of vessels fluro|Thallium|Heart Disease|\n",
            "+---+---+---------------+---+-----------+------------+-----------+------+---------------+-------------+-----------+-----------------------+--------+-------------+\n",
            "| 70|  1|              4|130|        322|           0|          2|   109|              0|          2.4|          2|                      3|       3|     Presence|\n",
            "| 67|  0|              3|115|        564|           0|          2|   160|              0|          1.6|          2|                      0|       7|      Absence|\n",
            "| 57|  1|              2|124|        261|           0|          0|   141|              0|          0.3|          1|                      0|       7|     Presence|\n",
            "| 64|  1|              4|128|        263|           0|          0|   105|              1|          0.2|          2|                      1|       7|      Absence|\n",
            "| 74|  0|              2|120|        269|           0|          2|   121|              1|          0.2|          1|                      1|       3|      Absence|\n",
            "| 65|  1|              4|120|        177|           0|          0|   140|              0|          0.4|          1|                      0|       7|      Absence|\n",
            "| 56|  1|              3|130|        256|           1|          2|   142|              1|          0.6|          2|                      1|       6|     Presence|\n",
            "| 59|  1|              4|110|        239|           0|          2|   142|              1|          1.2|          2|                      1|       7|     Presence|\n",
            "| 60|  1|              4|140|        293|           0|          2|   170|              0|          1.2|          2|                      2|       7|     Presence|\n",
            "| 63|  0|              4|150|        407|           0|          2|   154|              0|          4.0|          2|                      3|       7|     Presence|\n",
            "| 59|  1|              4|135|        234|           0|          0|   161|              0|          0.5|          2|                      0|       7|      Absence|\n",
            "| 53|  1|              4|142|        226|           0|          2|   111|              1|          0.0|          1|                      0|       7|      Absence|\n",
            "| 44|  1|              3|140|        235|           0|          2|   180|              0|          0.0|          1|                      0|       3|      Absence|\n",
            "| 61|  1|              1|134|        234|           0|          0|   145|              0|          2.6|          2|                      2|       3|     Presence|\n",
            "| 57|  0|              4|128|        303|           0|          2|   159|              0|          0.0|          1|                      1|       3|      Absence|\n",
            "| 71|  0|              4|112|        149|           0|          0|   125|              0|          1.6|          2|                      0|       3|      Absence|\n",
            "| 46|  1|              4|140|        311|           0|          0|   120|              1|          1.8|          2|                      2|       7|     Presence|\n",
            "| 53|  1|              4|140|        203|           1|          2|   155|              1|          3.1|          3|                      0|       7|     Presence|\n",
            "| 64|  1|              1|110|        211|           0|          2|   144|              1|          1.8|          2|                      0|       3|      Absence|\n",
            "| 40|  1|              1|140|        199|           0|          0|   178|              1|          1.4|          1|                      0|       7|      Absence|\n",
            "+---+---+---------------+---+-----------+------------+-----------+------+---------------+-------------+-----------+-----------------------+--------+-------------+\n",
            "only showing top 20 rows\n",
            "\n"
          ]
        }
      ]
    },
    {
      "cell_type": "code",
      "source": [
        "data=data.drop('Chest pain type')\n",
        "data=data.withColumnRenamed('BP','Blood Pressure(mm Hg)').withColumnRenamed('Cholesterol','Cholesterol(mg/dl)').withColumnRenamed('FBS over 120','Fasting Blood Sugar > 120(mg/dl)').withColumnRenamed('EKG results','Resting EKG').withColumnRenamed('Max HR','Max Resting Heartrate').withColumnRenamed('Exercise angina','Exercise Angina')\n",
        "data = data.replace(\"Absence\", \"0\", \"Heart Disease\")\n",
        "data = data.replace(\"Presence\", \"1\", \"Heart Disease\")\n",
        "data=data.withColumn(\"Heart Disease\", data[\"Heart Disease\"].cast(IntegerType()))"
      ],
      "metadata": {
        "id": "Z2WLdpGi7Wyw"
      },
      "execution_count": 194,
      "outputs": []
    },
    {
      "cell_type": "markdown",
      "source": [
        "1. Chestpain type column was dropped\n",
        "2. Columns were renamed to provide clarity\n",
        "3. Presence/Absence of Heart Disease denoted by 1/0 respectively.\n",
        "4. Heart Disease column entries changed to integer type"
      ],
      "metadata": {
        "id": "cqz1wP76Rc_h"
      }
    },
    {
      "cell_type": "code",
      "source": [
        "data.show()"
      ],
      "metadata": {
        "id": "foo5XHY979FP"
      },
      "execution_count": null,
      "outputs": []
    },
    {
      "cell_type": "markdown",
      "source": [
        "**FIC Heart Conditions Dataset**"
      ],
      "metadata": {
        "id": "11vc2SvRg-Ek"
      }
    },
    {
      "cell_type": "code",
      "source": [
        "ficdata.show()"
      ],
      "metadata": {
        "id": "jdLXJphP7-DC"
      },
      "execution_count": null,
      "outputs": []
    },
    {
      "cell_type": "code",
      "source": [
        "ficdata=ficdata.drop('Age.Group','Locality  ','Others ','Marital status                       ','Family.History','Life.Style                                                                              ','Sleep','Category','Depression','Hyperlipi','Smoking','F.History','Diabetes','HTN','Allergies','Thrombolysis','BGR','B.Urea','S.Cr','S.Sodium','S.Potassium','S.Chloride','C.P.K','CK.MB','ESR','WBC','RBC','M.C.H','Hemoglobin','P.C.V','M.C.V','M.C.','M.C.H.C','PLATELET_COUNT','NEUTROPHIL','LYMPHO','MONOCYTE','EOSINO','        Others','CO','Diagnosis','Hypersensitivity','cp','trestbps','num','SK','SK.React','Reaction','Mortality','Follow.Up')\n",
        "ficdata=ficdata.withColumnRenamed('BP','Blood Pressure(mm Hg)').withColumnRenamed('Gender','Sex').withColumnRenamed('chol','Cholesterol(mg/dl)').withColumnRenamed('fbs','Fasting Blood Sugar > 120(mg/dl)').withColumnRenamed('restecg','Resting EKG').withColumnRenamed('thalach','Max Resting Heartrate').withColumnRenamed('exang','Exercise Angina').withColumnRenamed('oldpeak','ST depression').withColumnRenamed('slope','Slope of ST').withColumnRenamed('ca','Number of vessels fluro').withColumnRenamed('thal','Thallium')\n",
        "ficdata=ficdata.replace(\"Female\", \"0\", \"Sex\")\n",
        "ficdata=ficdata.replace(\"Male\", \"1\", \"Sex\")\n",
        "ficdata=ficdata.withColumn(\"Sex\", ficdata[\"Sex\"].cast(IntegerType()))\n",
        "ficdata=ficdata.withColumn(\"Blood Pressure(mm Hg)\", ficdata[\"Blood Pressure(mm Hg)\"].cast(IntegerType()))"
      ],
      "metadata": {
        "id": "c7npwEkh-98f"
      },
      "execution_count": 197,
      "outputs": []
    },
    {
      "cell_type": "markdown",
      "source": [
        "1. Some columns dropped\n",
        "2. Columns were renamed to provide clarity\n",
        "3. Male/Female o denoted by 1/0 respectively.\n",
        "4. Blood Pressure(mm Hg) column entries changed to integer type"
      ],
      "metadata": {
        "id": "VuWwJagqhJ5t"
      }
    },
    {
      "cell_type": "code",
      "source": [
        "ficdata.show()"
      ],
      "metadata": {
        "colab": {
          "base_uri": "https://localhost:8080/"
        },
        "id": "Y-6I84hVBXDH",
        "outputId": "56e3dcef-7132-41cd-8740-3f170cc4eedf"
      },
      "execution_count": 198,
      "outputs": [
        {
          "output_type": "stream",
          "name": "stdout",
          "text": [
            "+---+---+---------------------+------------------+--------------------------------+-----------+---------------------+---------------+-------------+-----------+-----------------------+--------+\n",
            "|Age|Sex|Blood Pressure(mm Hg)|Cholesterol(mg/dl)|Fasting Blood Sugar > 120(mg/dl)|Resting EKG|Max Resting Heartrate|Exercise Angina|ST depression|Slope of ST|Number of vessels fluro|Thallium|\n",
            "+---+---+---------------------+------------------+--------------------------------+-----------+---------------------+---------------+-------------+-----------+-----------------------+--------+\n",
            "| 45|  0|                  100|               341|                               1|          2|                  136|              1|          3.0|          2|                      0|       7|\n",
            "| 51|  0|                   90|               305|                               0|          0|                  142|              1|          1.2|          2|                      0|       7|\n",
            "| 55|  0|                  100|               327|                               0|          1|                  117|              1|          3.4|          2|                      0|       3|\n",
            "| 55|  0|                  160|               205|                               0|          1|                  130|              1|          2.0|          2|                      1|       7|\n",
            "| 56|  0|                   90|               288|                               1|          2|                  133|              1|          4.0|          3|                      2|       7|\n",
            "| 56|  0|                  140|               409|                               0|          2|                  150|              1|          1.9|          2|                      2|       7|\n",
            "| 57|  0|                  120|               241|                               0|          0|                  123|              1|          0.2|          2|                      0|       7|\n",
            "| 57|  0|                  100|               236|                               0|          2|                  174|              0|          0.0|          2|                      1|       3|\n",
            "| 58|  0|                   90|               319|                               1|          2|                  152|              0|          0.0|          1|                      2|       3|\n",
            "| 58|  0|                  100|               225|                               1|          2|                  146|              1|          2.8|          2|                      2|       6|\n",
            "| 59|  0|                  160|               249|                               0|          0|                  143|              1|          0.0|          2|                      0|       3|\n",
            "| 60|  0|                   90|               258|                               0|          2|                  157|              0|          2.6|          2|                      2|       7|\n",
            "| 60|  0|                  140|               305|                               0|          2|                  161|              0|          0.0|          1|                      0|       3|\n",
            "| 61|  0|                  120|               330|                               0|          2|                  169|              0|          0.0|          1|                      0|       3|\n",
            "| 61|  0|                  100|               307|                               0|          2|                  146|              1|          1.0|          2|                      0|       7|\n",
            "| 62|  0|                   90|               268|                               0|          2|                  160|              0|          3.6|          3|                      2|       3|\n",
            "| 62|  0|                  100|               164|                               0|          2|                  145|              0|          6.2|          3|                      3|       7|\n",
            "| 62|  0|                  160|               263|                               0|          0|                   97|              0|          1.2|          2|                      1|       7|\n",
            "| 62|  0|                   90|               294|                               1|          0|                  106|              0|          1.9|          2|                      3|       3|\n",
            "| 62|  0|                  140|               244|                               0|          0|                  154|              1|          1.4|          2|                      0|       3|\n",
            "+---+---+---------------------+------------------+--------------------------------+-----------+---------------------+---------------+-------------+-----------+-----------------------+--------+\n",
            "only showing top 20 rows\n",
            "\n"
          ]
        }
      ]
    },
    {
      "cell_type": "code",
      "source": [
        "data.describe().show()"
      ],
      "metadata": {
        "colab": {
          "base_uri": "https://localhost:8080/"
        },
        "id": "MtzxdcoDh9Gy",
        "outputId": "656d708f-3d99-484e-fc25-b0c9fe944e2e"
      },
      "execution_count": 121,
      "outputs": [
        {
          "output_type": "stream",
          "name": "stdout",
          "text": [
            "+-------+-----------------+------------------+---------------------+------------------+--------------------------------+------------------+---------------------+------------------+------------------+------------------+-----------------------+------------------+------------------+\n",
            "|summary|              Age|               Sex|Blood Pressure(mm Hg)|Cholesterol(mg/dl)|Fasting Blood Sugar > 120(mg/dl)|       Resting EKG|Max Resting Heartrate|   Exercise Angina|     ST depression|       Slope of ST|Number of vessels fluro|          Thallium|     Heart Disease|\n",
            "+-------+-----------------+------------------+---------------------+------------------+--------------------------------+------------------+---------------------+------------------+------------------+------------------+-----------------------+------------------+------------------+\n",
            "|  count|              270|               270|                  270|               270|                             270|               270|                  270|               270|               270|               270|                    270|               270|               270|\n",
            "|   mean|54.43333333333333|0.6777777777777778|   131.34444444444443|249.65925925925927|             0.14814814814814814|1.0222222222222221|   149.67777777777778|0.3296296296296296|1.0499999999999996|1.5851851851851853|     0.6703703703703704| 4.696296296296296|0.4444444444444444|\n",
            "| stddev|9.109066523898207|0.4681954071552696|   17.861608292800856| 51.68623711643123|             0.35590647697073136|0.9978912089661106|    23.16571677512012|0.4709515913013828| 1.145209839377997|0.6143898376781299|     0.9438963834881158|1.9406589693457779|0.4978267515886163|\n",
            "|    min|               29|                 0|                   94|               126|                               0|                 0|                   71|                 0|               0.0|                 1|                      0|                 3|                 0|\n",
            "|    max|               77|                 1|                  200|               564|                               1|                 2|                  202|                 1|               6.2|                 3|                      3|                 7|                 1|\n",
            "+-------+-----------------+------------------+---------------------+------------------+--------------------------------+------------------+---------------------+------------------+------------------+------------------+-----------------------+------------------+------------------+\n",
            "\n"
          ]
        }
      ]
    },
    {
      "cell_type": "code",
      "source": [
        "ficdata.describe().show()"
      ],
      "metadata": {
        "colab": {
          "base_uri": "https://localhost:8080/"
        },
        "id": "HWvYM1miiDs6",
        "outputId": "90ff5aae-e455-4c56-ac57-717c1019b8f1"
      },
      "execution_count": 120,
      "outputs": [
        {
          "output_type": "stream",
          "name": "stdout",
          "text": [
            "+-------+-----------------+------------------+---------------------+------------------+--------------------------------+------------------+---------------------+------------------+------------------+------------------+-----------------------+------------------+\n",
            "|summary|              Age|               Sex|Blood Pressure(mm Hg)|Cholesterol(mg/dl)|Fasting Blood Sugar > 120(mg/dl)|       Resting EKG|Max Resting Heartrate|   Exercise Angina|     ST depression|       Slope of ST|Number of vessels fluro|          Thallium|\n",
            "+-------+-----------------+------------------+---------------------+------------------+--------------------------------+------------------+---------------------+------------------+------------------+------------------+-----------------------+------------------+\n",
            "|  count|              368|               368|                  368|               368|                             368|               368|                  368|               368|               368|               368|                    368|               368|\n",
            "|   mean|54.29347826086956|0.7744565217391305|    120.5163043478261|248.94021739130434|             0.14130434782608695|1.0733695652173914|   140.92391304347825|            0.5625|1.5418478260869575|1.8423913043478262|      1.002717391304348| 5.858695652173913|\n",
            "| stddev|8.718157997932263|0.4185087425452172|    24.55055964078033|50.126452761367695|              0.3488094735086515|0.9945615354469254|   22.994601283531818|0.4967537671493911|   1.3853806011427| 0.564283673738077|     1.0374424676063614|1.7443190577528809|\n",
            "|    min|               24|                 0|                   80|               131|                               0|                 0|                   71|                 0|               0.0|                 1|                      0|                 3|\n",
            "|    max|               77|                 1|                  190|               409|                               1|                 2|                  195|                 1|               6.2|                 3|                      3|                 7|\n",
            "+-------+-----------------+------------------+---------------------+------------------+--------------------------------+------------------+---------------------+------------------+------------------+------------------+-----------------------+------------------+\n",
            "\n"
          ]
        }
      ]
    },
    {
      "cell_type": "markdown",
      "source": [
        "## **Feature Selection**"
      ],
      "metadata": {
        "id": "aCnvQ5ngyXkd"
      }
    },
    {
      "cell_type": "code",
      "source": [
        "for i in data.columns:\n",
        "  print(\"{} and Heart Disease = {}\".format(i,data.stat.corr(\"Heart Disease\",i)))"
      ],
      "metadata": {
        "colab": {
          "base_uri": "https://localhost:8080/"
        },
        "id": "mfMFogI3klp0",
        "outputId": "72022841-3348-4a76-ce9c-7665a004d28a"
      },
      "execution_count": 141,
      "outputs": [
        {
          "output_type": "stream",
          "name": "stdout",
          "text": [
            "Age and Heart Disease = 0.2123221874434284\n",
            "Sex and Heart Disease = 0.29772075572408496\n",
            "Blood Pressure(mm Hg) and Heart Disease = 0.1553826561757688\n",
            "Cholesterol(mg/dl) and Heart Disease = 0.11802053060517001\n",
            "Fasting Blood Sugar > 120(mg/dl) and Heart Disease = -0.016318834144205503\n",
            "Resting EKG and Heart Disease = 0.18209075568278285\n",
            "Max Resting Heartrate and Heart Disease = -0.4185139653265933\n",
            "Exercise Angina and Heart Disease = 0.4193027091902966\n",
            "ST depression and Heart Disease = 0.4179674372274274\n",
            "Slope of ST and Heart Disease = 0.33761595723299065\n",
            "Number of vessels fluro and Heart Disease = 0.45533645047270893\n",
            "Thallium and Heart Disease = 0.5250203329618742\n",
            "Heart Disease and Heart Disease = 1.0\n"
          ]
        }
      ]
    },
    {
      "cell_type": "markdown",
      "source": [
        "We will be keeping all the columns as features as no column is completely redundant in dictating presence/absence of heart disease. This is evident from the correlation between each feature and the Diagnosis."
      ],
      "metadata": {
        "id": "HQmiEz5r2ToC"
      }
    },
    {
      "cell_type": "markdown",
      "source": [
        "##  **Creating a Feature Vector Column using Vector Assembler**\n",
        "\n",
        "Merging multiple columns to a vector column."
      ],
      "metadata": {
        "id": "hqvXptgl241A"
      }
    },
    {
      "cell_type": "code",
      "source": [
        "data.columns"
      ],
      "metadata": {
        "colab": {
          "base_uri": "https://localhost:8080/"
        },
        "id": "BgTw2vpF4Hhz",
        "outputId": "90647efd-866d-4470-b717-bbf2709f06d8"
      },
      "execution_count": 142,
      "outputs": [
        {
          "output_type": "execute_result",
          "data": {
            "text/plain": [
              "['Age',\n",
              " 'Sex',\n",
              " 'Blood Pressure(mm Hg)',\n",
              " 'Cholesterol(mg/dl)',\n",
              " 'Fasting Blood Sugar > 120(mg/dl)',\n",
              " 'Resting EKG',\n",
              " 'Max Resting Heartrate',\n",
              " 'Exercise Angina',\n",
              " 'ST depression',\n",
              " 'Slope of ST',\n",
              " 'Number of vessels fluro',\n",
              " 'Thallium',\n",
              " 'Heart Disease']"
            ]
          },
          "metadata": {},
          "execution_count": 142
        }
      ]
    },
    {
      "cell_type": "code",
      "source": [
        "featuremaker=VectorAssembler(inputCols=['Age','Sex','Blood Pressure(mm Hg)','Cholesterol(mg/dl)','Fasting Blood Sugar > 120(mg/dl)','Resting EKG','Max Resting Heartrate','Exercise Angina','ST depression','Slope of ST','Number of vessels fluro','Thallium'],outputCol='Features as Vectors')"
      ],
      "metadata": {
        "id": "BhnjB3Fkzj3K"
      },
      "execution_count": 148,
      "outputs": []
    },
    {
      "cell_type": "code",
      "source": [
        "readyforml=featuremaker.transform(data)"
      ],
      "metadata": {
        "id": "MIDVq5vi4ZWl"
      },
      "execution_count": 149,
      "outputs": []
    },
    {
      "cell_type": "code",
      "source": [
        "readyforml.select('Features as Vector').show()"
      ],
      "metadata": {
        "colab": {
          "base_uri": "https://localhost:8080/",
          "height": 1000
        },
        "id": "0WJNDYNG4wuo",
        "outputId": "2ace6f2a-98ec-47ac-caef-b46accc19282"
      },
      "execution_count": 200,
      "outputs": [
        {
          "output_type": "error",
          "ename": "AnalysisException",
          "evalue": "[UNRESOLVED_COLUMN.WITH_SUGGESTION] A column or function parameter with name `Features as Vector` cannot be resolved. Did you mean one of the following? [`Features as Vectors`, `Heart Disease`, `ST depression`, `Resting EKG`, `Slope of ST`].;\n'Project ['Features as Vector]\n+- Project [Age#5489, Sex#5490, Blood Pressure(mm Hg)#6112, Cholesterol(mg/dl)#6126, Fasting Blood Sugar > 120(mg/dl)#6140, Resting EKG#6154, Max Resting Heartrate#6168, Exercise Angina#8815, ST depression#5498, Slope of ST#5499, Number of vessels fluro#5500, Thallium#5501, Heart Disease#8881, UDF(struct(Age_double_VectorAssembler_6bfc1e4ca4ee, cast(Age#5489 as double), Sex_double_VectorAssembler_6bfc1e4ca4ee, cast(Sex#5490 as double), Blood Pressure(mm Hg)_double_VectorAssembler_6bfc1e4ca4ee, cast(Blood Pressure(mm Hg)#6112 as double), Cholesterol(mg/dl)_double_VectorAssembler_6bfc1e4ca4ee, cast(Cholesterol(mg/dl)#6126 as double), Fasting Blood Sugar > 120(mg/dl)_double_VectorAssembler_6bfc1e4ca4ee, cast(Fasting Blood Sugar > 120(mg/dl)#6140 as double), Resting EKG_double_VectorAssembler_6bfc1e4ca4ee, cast(Resting EKG#6154 as double), Max Resting Heartrate_double_VectorAssembler_6bfc1e4ca4ee, cast(Max Resting Heartrate#6168 as double), Exercise Angina_double_VectorAssembler_6bfc1e4ca4ee, cast(Exercise Angina#8815 as double), ST depression, ST depression#5498, Slope of ST_double_VectorAssembler_6bfc1e4ca4ee, cast(Slope of ST#5499 as double), Number of vessels fluro_double_VectorAssembler_6bfc1e4ca4ee, cast(Number of vessels fluro#5500 as double), Thallium_double_VectorAssembler_6bfc1e4ca4ee, cast(Thallium#5501 as double))) AS Features as Vectors#39769]\n   +- Project [Age#5489, Sex#5490, Blood Pressure(mm Hg)#6112, Cholesterol(mg/dl)#6126, Fasting Blood Sugar > 120(mg/dl)#6140, Resting EKG#6154, Max Resting Heartrate#6168, Exercise Angina#8815, ST depression#5498, Slope of ST#5499, Number of vessels fluro#5500, Thallium#5501, cast(Heart Disease#8110 as int) AS Heart Disease#8881]\n      +- Project [Age#5489, Sex#5490, Blood Pressure(mm Hg)#6112, Cholesterol(mg/dl)#6126, Fasting Blood Sugar > 120(mg/dl)#6140, Resting EKG#6154, Max Resting Heartrate#6168, Exercise Angina#8815, ST depression#5498, Slope of ST#5499, Number of vessels fluro#5500, Thallium#5501, Heart Disease#8110]\n         +- Project [Age#5489, Sex#5490, Blood Pressure(mm Hg)#6112, Cholesterol(mg/dl)#6126, Fasting Blood Sugar > 120(mg/dl)#6140, Resting EKG#6154, Max Resting Heartrate#6168, Exercise Angina#8815, ST depression#5498, Slope of ST#5499, Number of vessels fluro#5500, Thallium#5501, Heart Disease#8110]\n            +- Project [Age#5489, Sex#5490, Blood Pressure(mm Hg)#6112, Cholesterol(mg/dl)#6126, Fasting Blood Sugar > 120(mg/dl)#6140, Resting EKG#6154, Max Resting Heartrate#6168, Exercise Angina#8042 AS Exercise Angina#8815, ST depression#5498, Slope of ST#5499, Number of vessels fluro#5500, Thallium#5501, Heart Disease#8110]\n               +- Project [Age#5489, Sex#5490, Blood Pressure(mm Hg)#6112, Cholesterol(mg/dl)#6126, Fasting Blood Sugar > 120(mg/dl)#6140, Resting EKG#6154, Max Resting Heartrate#6168, Exercise Angina#8042, ST depression#5498, Slope of ST#5499, Number of vessels fluro#5500, Thallium#5501, cast(Heart Disease#8096 as int) AS Heart Disease#8110]\n                  +- Project [Age#5489, Sex#5490, Blood Pressure(mm Hg)#6112, Cholesterol(mg/dl)#6126, Fasting Blood Sugar > 120(mg/dl)#6140, Resting EKG#6154, Max Resting Heartrate#6168, Exercise Angina#8042, ST depression#5498, Slope of ST#5499, Number of vessels fluro#5500, Thallium#5501, CASE WHEN (Heart Disease#8069 = Presence) THEN cast(1 as string) ELSE Heart Disease#8069 END AS Heart Disease#8096]\n                     +- Project [Age#5489, Sex#5490, Blood Pressure(mm Hg)#6112, Cholesterol(mg/dl)#6126, Fasting Blood Sugar > 120(mg/dl)#6140, Resting EKG#6154, Max Resting Heartrate#6168, Exercise Angina#8042, ST depression#5498, Slope of ST#5499, Number of vessels fluro#5500, Thallium#5501, CASE WHEN (Heart Disease#7950 = Absence) THEN cast(0 as string) ELSE Heart Disease#7950 END AS Heart Disease#8069]\n                        +- Project [Age#5489, Sex#5490, Blood Pressure(mm Hg)#6112, Cholesterol(mg/dl)#6126, Fasting Blood Sugar > 120(mg/dl)#6140, Resting EKG#6154, Max Resting Heartrate#6168, Exercise Angina#7896 AS Exercise Angina#8042, ST depression#5498, Slope of ST#5499, Number of vessels fluro#5500, Thallium#5501, Heart Disease#7950]\n                           +- Project [Age#5489, Sex#5490, Blood Pressure(mm Hg)#6112, Cholesterol(mg/dl)#6126, Fasting Blood Sugar > 120(mg/dl)#6140, Resting EKG#6154, Max Resting Heartrate#6168, Exercise Angina#7896, ST depression#5498, Slope of ST#5499, Number of vessels fluro#5500, Thallium#5501, CASE WHEN (Heart Disease#7923 = Presence) THEN cast(1 as string) ELSE Heart Disease#7923 END AS Heart Disease#7950]\n                              +- Project [Age#5489, Sex#5490, Blood Pressure(mm Hg)#6112, Cholesterol(mg/dl)#6126, Fasting Blood Sugar > 120(mg/dl)#6140, Resting EKG#6154, Max Resting Heartrate#6168, Exercise Angina#7896, ST depression#5498, Slope of ST#5499, Number of vessels fluro#5500, Thallium#5501, CASE WHEN (Heart Disease#7804 = Absence) THEN cast(0 as string) ELSE Heart Disease#7804 END AS Heart Disease#7923]\n                                 +- Project [Age#5489, Sex#5490, Blood Pressure(mm Hg)#6112, Cholesterol(mg/dl)#6126, Fasting Blood Sugar > 120(mg/dl)#6140, Resting EKG#6154, Max Resting Heartrate#6168, Exercise Angina#7750 AS Exercise Angina#7896, ST depression#5498, Slope of ST#5499, Number of vessels fluro#5500, Thallium#5501, Heart Disease#7804]\n                                    +- Project [Age#5489, Sex#5490, Blood Pressure(mm Hg)#6112, Cholesterol(mg/dl)#6126, Fasting Blood Sugar > 120(mg/dl)#6140, Resting EKG#6154, Max Resting Heartrate#6168, Exercise Angina#7750, ST depression#5498, Slope of ST#5499, Number of vessels fluro#5500, Thallium#5501, CASE WHEN (Heart Disease#7777 = Presence) THEN cast(1 as string) ELSE Heart Disease#7777 END AS Heart Disease#7804]\n                                       +- Project [Age#5489, Sex#5490, Blood Pressure(mm Hg)#6112, Cholesterol(mg/dl)#6126, Fasting Blood Sugar > 120(mg/dl)#6140, Resting EKG#6154, Max Resting Heartrate#6168, Exercise Angina#7750, ST depression#5498, Slope of ST#5499, Number of vessels fluro#5500, Thallium#5501, CASE WHEN (Heart Disease#7658 = Absence) THEN cast(0 as string) ELSE Heart Disease#7658 END AS Heart Disease#7777]\n                                          +- Project [Age#5489, Sex#5490, Blood Pressure(mm Hg)#6112, Cholesterol(mg/dl)#6126, Fasting Blood Sugar > 120(mg/dl)#6140, Resting EKG#6154, Max Resting Heartrate#6168, Exercise Angina#7604 AS Exercise Angina#7750, ST depression#5498, Slope of ST#5499, Number of vessels fluro#5500, Thallium#5501, Heart Disease#7658]\n                                             +- Project [Age#5489, Sex#5490, Blood Pressure(mm Hg)#6112, Cholesterol(mg/dl)#6126, Fasting Blood Sugar > 120(mg/dl)#6140, Resting EKG#6154, Max Resting Heartrate#6168, Exercise Angina#7604, ST depression#5498, Slope of ST#5499, Number of vessels fluro#5500, Thallium#5501, CASE WHEN (Heart Disease#7631 = Presence) THEN cast(1 as string) ELSE Heart Disease#7631 END AS Heart Disease#7658]\n                                                +- Project [Age#5489, Sex#5490, Blood Pressure(mm Hg)#6112, Cholesterol(mg/dl)#6126, Fasting Blood Sugar > 120(mg/dl)#6140, Resting EKG#6154, Max Resting Heartrate#6168, Exercise Angina#7604, ST depression#5498, Slope of ST#5499, Number of vessels fluro#5500, Thallium#5501, CASE WHEN (Heart Disease#6236 = Absence) THEN cast(0 as string) ELSE Heart Disease#6236 END AS Heart Disease#7631]\n                                                   +- Project [Age#5489, Sex#5490, Blood Pressure(mm Hg)#6112, Cholesterol(mg/dl)#6126, Fasting Blood Sugar > 120(mg/dl)#6140, Resting EKG#6154, Max Resting Heartrate#6168, Exercise Angina#6182 AS Exercise Angina#7604, ST depression#5498, Slope of ST#5499, Number of vessels fluro#5500, Thallium#5501, Heart Disease#6236]\n                                                      +- Project [Age#5489, Sex#5490, Blood Pressure(mm Hg)#6112, Cholesterol(mg/dl)#6126, Fasting Blood Sugar > 120(mg/dl)#6140, Resting EKG#6154, Max Resting Heartrate#6168, Exercise Angina#6182, ST depression#5498, Slope of ST#5499, Number of vessels fluro#5500, Thallium#5501, CASE WHEN (Heart Disease#6209 = Presence) THEN cast(1 as string) ELSE Heart Disease#6209 END AS Heart Disease#6236]\n                                                         +- Project [Age#5489, Sex#5490, Blood Pressure(mm Hg)#6112, Cholesterol(mg/dl)#6126, Fasting Blood Sugar > 120(mg/dl)#6140, Resting EKG#6154, Max Resting Heartrate#6168, Exercise Angina#6182, ST depression#5498, Slope of ST#5499, Number of vessels fluro#5500, Thallium#5501, CASE WHEN (Heart Disease#5502 = Absence) THEN cast(0 as string) ELSE Heart Disease#5502 END AS Heart Disease#6209]\n                                                            +- Project [Age#5489, Sex#5490, Blood Pressure(mm Hg)#6112, Cholesterol(mg/dl)#6126, Fasting Blood Sugar > 120(mg/dl)#6140, Resting EKG#6154, Max Resting Heartrate#6168, Exercise angina#5497 AS Exercise Angina#6182, ST depression#5498, Slope of ST#5499, Number of vessels fluro#5500, Thallium#5501, Heart Disease#5502]\n                                                               +- Project [Age#5489, Sex#5490, Blood Pressure(mm Hg)#6112, Cholesterol(mg/dl)#6126, Fasting Blood Sugar > 120(mg/dl)#6140, Resting EKG#6154, Max HR#5496 AS Max Resting Heartrate#6168, Exercise angina#5497, ST depression#5498, Slope of ST#5499, Number of vessels fluro#5500, Thallium#5501, Heart Disease#5502]\n                                                                  +- Project [Age#5489, Sex#5490, Blood Pressure(mm Hg)#6112, Cholesterol(mg/dl)#6126, Fasting Blood Sugar > 120(mg/dl)#6140, EKG results#5495 AS Resting EKG#6154, Max HR#5496, Exercise angina#5497, ST depression#5498, Slope of ST#5499, Number of vessels fluro#5500, Thallium#5501, Heart Disease#5502]\n                                                                     +- Project [Age#5489, Sex#5490, Blood Pressure(mm Hg)#6112, Cholesterol(mg/dl)#6126, FBS over 120#5494 AS Fasting Blood Sugar > 120(mg/dl)#6140, EKG results#5495, Max HR#5496, Exercise angina#5497, ST depression#5498, Slope of ST#5499, Number of vessels fluro#5500, Thallium#5501, Heart Disease#5502]\n                                                                        +- Project [Age#5489, Sex#5490, Blood Pressure(mm Hg)#6112, Cholesterol#5493 AS Cholesterol(mg/dl)#6126, FBS over 120#5494, EKG results#5495, Max HR#5496, Exercise angina#5497, ST depression#5498, Slope of ST#5499, Number of vessels fluro#5500, Thallium#5501, Heart Disease#5502]\n                                                                           +- Project [Age#5489, Sex#5490, BP#5492 AS Blood Pressure(mm Hg)#6112, Cholesterol#5493, FBS over 120#5494, EKG results#5495, Max HR#5496, Exercise angina#5497, ST depression#5498, Slope of ST#5499, Number of vessels fluro#5500, Thallium#5501, Heart Disease#5502]\n                                                                              +- Project [Age#5489, Sex#5490, BP#5492, Cholesterol#5493, FBS over 120#5494, EKG results#5495, Max HR#5496, Exercise angina#5497, ST depression#5498, Slope of ST#5499, Number of vessels fluro#5500, Thallium#5501, Heart Disease#5502]\n                                                                                 +- Relation [Age#5489,Sex#5490,Chest pain type#5491,BP#5492,Cholesterol#5493,FBS over 120#5494,EKG results#5495,Max HR#5496,Exercise angina#5497,ST depression#5498,Slope of ST#5499,Number of vessels fluro#5500,Thallium#5501,Heart Disease#5502] csv\n",
          "traceback": [
            "\u001b[0;31m---------------------------------------------------------------------------\u001b[0m",
            "\u001b[0;31mAnalysisException\u001b[0m                         Traceback (most recent call last)",
            "\u001b[0;32m<ipython-input-200-cf66ad442b4f>\u001b[0m in \u001b[0;36m<cell line: 1>\u001b[0;34m()\u001b[0m\n\u001b[0;32m----> 1\u001b[0;31m \u001b[0mreadyforml\u001b[0m\u001b[0;34m.\u001b[0m\u001b[0mselect\u001b[0m\u001b[0;34m(\u001b[0m\u001b[0;34m'Features as Vector'\u001b[0m\u001b[0;34m)\u001b[0m\u001b[0;34m.\u001b[0m\u001b[0mshow\u001b[0m\u001b[0;34m(\u001b[0m\u001b[0;34m)\u001b[0m\u001b[0;34m\u001b[0m\u001b[0;34m\u001b[0m\u001b[0m\n\u001b[0m",
            "\u001b[0;32m/usr/local/lib/python3.10/dist-packages/pyspark/sql/dataframe.py\u001b[0m in \u001b[0;36mselect\u001b[0;34m(self, *cols)\u001b[0m\n\u001b[1;32m   3227\u001b[0m         \u001b[0;34m+\u001b[0m\u001b[0;34m-\u001b[0m\u001b[0;34m-\u001b[0m\u001b[0;34m-\u001b[0m\u001b[0;34m-\u001b[0m\u001b[0;34m-\u001b[0m\u001b[0;34m+\u001b[0m\u001b[0;34m-\u001b[0m\u001b[0;34m-\u001b[0m\u001b[0;34m-\u001b[0m\u001b[0;34m+\u001b[0m\u001b[0;34m\u001b[0m\u001b[0;34m\u001b[0m\u001b[0m\n\u001b[1;32m   3228\u001b[0m         \"\"\"\n\u001b[0;32m-> 3229\u001b[0;31m         \u001b[0mjdf\u001b[0m \u001b[0;34m=\u001b[0m \u001b[0mself\u001b[0m\u001b[0;34m.\u001b[0m\u001b[0m_jdf\u001b[0m\u001b[0;34m.\u001b[0m\u001b[0mselect\u001b[0m\u001b[0;34m(\u001b[0m\u001b[0mself\u001b[0m\u001b[0;34m.\u001b[0m\u001b[0m_jcols\u001b[0m\u001b[0;34m(\u001b[0m\u001b[0;34m*\u001b[0m\u001b[0mcols\u001b[0m\u001b[0;34m)\u001b[0m\u001b[0;34m)\u001b[0m\u001b[0;34m\u001b[0m\u001b[0;34m\u001b[0m\u001b[0m\n\u001b[0m\u001b[1;32m   3230\u001b[0m         \u001b[0;32mreturn\u001b[0m \u001b[0mDataFrame\u001b[0m\u001b[0;34m(\u001b[0m\u001b[0mjdf\u001b[0m\u001b[0;34m,\u001b[0m \u001b[0mself\u001b[0m\u001b[0;34m.\u001b[0m\u001b[0msparkSession\u001b[0m\u001b[0;34m)\u001b[0m\u001b[0;34m\u001b[0m\u001b[0;34m\u001b[0m\u001b[0m\n\u001b[1;32m   3231\u001b[0m \u001b[0;34m\u001b[0m\u001b[0m\n",
            "\u001b[0;32m/usr/local/lib/python3.10/dist-packages/py4j/java_gateway.py\u001b[0m in \u001b[0;36m__call__\u001b[0;34m(self, *args)\u001b[0m\n\u001b[1;32m   1320\u001b[0m \u001b[0;34m\u001b[0m\u001b[0m\n\u001b[1;32m   1321\u001b[0m         \u001b[0manswer\u001b[0m \u001b[0;34m=\u001b[0m \u001b[0mself\u001b[0m\u001b[0;34m.\u001b[0m\u001b[0mgateway_client\u001b[0m\u001b[0;34m.\u001b[0m\u001b[0msend_command\u001b[0m\u001b[0;34m(\u001b[0m\u001b[0mcommand\u001b[0m\u001b[0;34m)\u001b[0m\u001b[0;34m\u001b[0m\u001b[0;34m\u001b[0m\u001b[0m\n\u001b[0;32m-> 1322\u001b[0;31m         return_value = get_return_value(\n\u001b[0m\u001b[1;32m   1323\u001b[0m             answer, self.gateway_client, self.target_id, self.name)\n\u001b[1;32m   1324\u001b[0m \u001b[0;34m\u001b[0m\u001b[0m\n",
            "\u001b[0;32m/usr/local/lib/python3.10/dist-packages/pyspark/errors/exceptions/captured.py\u001b[0m in \u001b[0;36mdeco\u001b[0;34m(*a, **kw)\u001b[0m\n\u001b[1;32m    183\u001b[0m                 \u001b[0;31m# Hide where the exception came from that shows a non-Pythonic\u001b[0m\u001b[0;34m\u001b[0m\u001b[0;34m\u001b[0m\u001b[0m\n\u001b[1;32m    184\u001b[0m                 \u001b[0;31m# JVM exception message.\u001b[0m\u001b[0;34m\u001b[0m\u001b[0;34m\u001b[0m\u001b[0m\n\u001b[0;32m--> 185\u001b[0;31m                 \u001b[0;32mraise\u001b[0m \u001b[0mconverted\u001b[0m \u001b[0;32mfrom\u001b[0m \u001b[0;32mNone\u001b[0m\u001b[0;34m\u001b[0m\u001b[0;34m\u001b[0m\u001b[0m\n\u001b[0m\u001b[1;32m    186\u001b[0m             \u001b[0;32melse\u001b[0m\u001b[0;34m:\u001b[0m\u001b[0;34m\u001b[0m\u001b[0;34m\u001b[0m\u001b[0m\n\u001b[1;32m    187\u001b[0m                 \u001b[0;32mraise\u001b[0m\u001b[0;34m\u001b[0m\u001b[0;34m\u001b[0m\u001b[0m\n",
            "\u001b[0;31mAnalysisException\u001b[0m: [UNRESOLVED_COLUMN.WITH_SUGGESTION] A column or function parameter with name `Features as Vector` cannot be resolved. Did you mean one of the following? [`Features as Vectors`, `Heart Disease`, `ST depression`, `Resting EKG`, `Slope of ST`].;\n'Project ['Features as Vector]\n+- Project [Age#5489, Sex#5490, Blood Pressure(mm Hg)#6112, Cholesterol(mg/dl)#6126, Fasting Blood Sugar > 120(mg/dl)#6140, Resting EKG#6154, Max Resting Heartrate#6168, Exercise Angina#8815, ST depression#5498, Slope of ST#5499, Number of vessels fluro#5500, Thallium#5501, Heart Disease#8881, UDF(struct(Age_double_VectorAssembler_6bfc1e4ca4ee, cast(Age#5489 as double), Sex_double_VectorAssembler_6bfc1e4ca4ee, cast(Sex#5490 as double), Blood Pressure(mm Hg)_double_VectorAssembler_6bfc1e4ca4ee, cast(Blood Pressure(mm Hg)#6112 as double), Cholesterol(mg/dl)_double_VectorAssembler_6bfc1e4ca4ee, cast(Cholesterol(mg/dl)#6126 as double), Fasting Blood Sugar > 120(mg/dl)_double_VectorAssembler_6bfc1e4ca4ee, cast(Fasting Blood Sugar > 120(mg/dl)#6140 as double), Resting EKG_double_VectorAssembler_6bfc1e4ca4ee, cast(Resting EKG#6154 as double), Max Resting Heartrate_double_VectorAssembler_6bfc1e4ca4ee, cast(Max Resting Heartrate#6168 as double), Exercise Angina_double_VectorAssembler_6bfc1e4ca4ee, cast(Exercise Angina#8815 as double), ST depression, ST depression#5498, Slope of ST_double_VectorAssembler_6bfc1e4ca4ee, cast(Slope of ST#5499 as double), Number of vessels fluro_double_VectorAssembler_6bfc1e4ca4ee, cast(Number of vessels fluro#5500 as double), Thallium_double_VectorAssembler_6bfc1e4ca4ee, cast(Thallium#5501 as double))) AS Features as Vectors#39769]\n   +- Project [Age#5489, Sex#5490, Blood Pressure(mm Hg)#6112, Cholesterol(mg/dl)#6126, Fasting Blood Sugar > 120(mg/dl)#6140, Resting EKG#6154, Max Resting Heartrate#6168, Exercise Angina#8815, ST depression#5498, Slope of ST#5499, Number of vessels fluro#5500, Thallium#5501, cast(Heart Disease#8110 as int) AS Heart Disease#8881]\n      +- Project [Age#5489, Sex#5490, Blood Pressure(mm Hg)#6112, Cholesterol(mg/dl)#6126, Fasting Blood Sugar > 120(mg/dl)#6140, Resting EKG#6154, Max Resting Heartrate#6168, Exercise Angina#8815, ST depression#5498, Slope of ST#5499, Number of vessels fluro#5500, Thallium#5501, Heart Disease#8110]\n         +- Project [Age#5489, Sex#5490, Blood Pressure(mm Hg)#6112, Cholesterol(mg/dl)#6126, Fasting Blood Sugar > 120(mg/dl)#6140, Resting EKG#6154, Max Resting Heartrate#6168, Exercise Angina#8815, ST depression#5498, Slope of ST#5499, Number of vessels fluro#5500, Thallium#5501, Heart Disease#8110]\n            +- Project [Age#5489, Sex#5490, Blood Pressure(mm Hg)#6112, Cholesterol(mg/dl)#6126, Fasting Blood Sugar > 120(mg/dl)#6140, Resting EKG#6154, Max Resting Heartrate#6168, Exercise Angina#8042 AS Exercise Angina#8815, ST depression#5498, Slope of ST#5499, Number of vessels fluro#5500, Thallium#5501, Heart Disease#8110]\n               +- Project [Age#5489, Sex#5490, Blood Pressure(mm Hg)#6112, Cholesterol(mg/dl)#6126, Fasting Blood Sugar > 120(mg/dl)#6140, Resting EKG#6154, Max Resting Heartrate#6168, Exercise Angina#8042, ST depression#5498, Slope of ST#5499, Number of vessels fluro#5500, Thallium#5501, cast(Heart Disease#8096 as int) AS Heart Disease#8110]\n                  +- Project [Age#5489, Sex#5490, Blood Pressure(mm Hg)#6112, Cholesterol(mg/dl)#6126, Fasting Blood Sugar > 120(mg/dl)#6140, Resting EKG#6154, Max Resting Heartrate#6168, Exercise Angina#8042, ST depression#5498, Slope of ST#5499, Number of vessels fluro#5500, Thallium#5501, CASE WHEN (Heart Disease#8069 = Presence) THEN cast(1 as string) ELSE Heart Disease#8069 END AS Heart Disease#8096]\n                     +- Project [Age#5489, Sex#5490, Blood Pressure(mm Hg)#6112, Cholesterol(mg/dl)#6126, Fasting Blood Sugar > 120(mg/dl)#6140, Resting EKG#6154, Max Resting Heartrate#6168, Exercise Angina#8042, ST depression#5498, Slope of ST#5499, Number of vessels fluro#5500, Thallium#5501, CASE WHEN (Heart Disease#7950 = Absence) THEN cast(0 as string) ELSE Heart Disease#7950 END AS Heart Disease#8069]\n                        +- Project [Age#5489, Sex#5490, Blood Pressure(mm Hg)#6112, Cholesterol(mg/dl)#6126, Fasting Blood Sugar > 120(mg/dl)#6140, Resting EKG#6154, Max Resting Heartrate#6168, Exercise Angina#7896 AS Exercise Angina#8042, ST depression#5498, Slope of ST#5499, Number of vessels fluro#5500, Thallium#5501, Heart Disease#7950]\n                           +- Project [Age#5489, Sex#5490, Blood Pressure(mm Hg)#6112, Cholesterol(mg/dl)#6126, Fasting Blood Sugar > 120(mg/dl)#6140, Resting EKG#6154, Max Resting Heartrate#6168, Exercise Angina#7896, ST depression#5498, Slope of ST#5499, Number of vessels fluro#5500, Thallium#5501, CASE WHEN (Heart Disease#7923 = Presence) THEN cast(1 as string) ELSE Heart Disease#7923 END AS Heart Disease#7950]\n                              +- Project [Age#5489, Sex#5490, Blood Pressure(mm Hg)#6112, Cholesterol(mg/dl)#6126, Fasting Blood Sugar > 120(mg/dl)#6140, Resting EKG#6154, Max Resting Heartrate#6168, Exercise Angina#7896, ST depression#5498, Slope of ST#5499, Number of vessels fluro#5500, Thallium#5501, CASE WHEN (Heart Disease#7804 = Absence) THEN cast(0 as string) ELSE Heart Disease#7804 END AS Heart Disease#7923]\n                                 +- Project [Age#5489, Sex#5490, Blood Pressure(mm Hg)#6112, Cholesterol(mg/dl)#6126, Fasting Blood Sugar > 120(mg/dl)#6140, Resting EKG#6154, Max Resting Heartrate#6168, Exercise Angina#7750 AS Exercise Angina#7896, ST depression#5498, Slope of ST#5499, Number of vessels fluro#5500, Thallium#5501, Heart Disease#7804]\n                                    +- Project [Age#5489, Sex#5490, Blood Pressure(mm Hg)#6112, Cholesterol(mg/dl)#6126, Fasting Blood Sugar > 120(mg/dl)#6140, Resting EKG#6154, Max Resting Heartrate#6168, Exercise Angina#7750, ST depression#5498, Slope of ST#5499, Number of vessels fluro#5500, Thallium#5501, CASE WHEN (Heart Disease#7777 = Presence) THEN cast(1 as string) ELSE Heart Disease#7777 END AS Heart Disease#7804]\n                                       +- Project [Age#5489, Sex#5490, Blood Pressure(mm Hg)#6112, Cholesterol(mg/dl)#6126, Fasting Blood Sugar > 120(mg/dl)#6140, Resting EKG#6154, Max Resting Heartrate#6168, Exercise Angina#7750, ST depression#5498, Slope of ST#5499, Number of vessels fluro#5500, Thallium#5501, CASE WHEN (Heart Disease#7658 = Absence) THEN cast(0 as string) ELSE Heart Disease#7658 END AS Heart Disease#7777]\n                                          +- Project [Age#5489, Sex#5490, Blood Pressure(mm Hg)#6112, Cholesterol(mg/dl)#6126, Fasting Blood Sugar > 120(mg/dl)#6140, Resting EKG#6154, Max Resting Heartrate#6168, Exercise Angina#7604 AS Exercise Angina#7750, ST depression#5498, Slope of ST#5499, Number of vessels fluro#5500, Thallium#5501, Heart Disease#7658]\n                                             +- Project [Age#5489, Sex#5490, Blood Pressure(mm Hg)#6112, Cholesterol(mg/dl)#6126, Fasting Blood Sugar > 120(mg/dl)#6140, Resting EKG#6154, Max Resting Heartrate#6168, Exercise Angina#7604, ST depression#5498, Slope of ST#5499, Number of vessels fluro#5500, Thallium#5501, CASE WHEN (Heart Disease#7631 = Presence) THEN cast(1 as string) ELSE Heart Disease#7631 END AS Heart Disease#7658]\n                                                +- Project [Age#5489, Sex#5490, Blood Pressure(mm Hg)#6112, Cholesterol(mg/dl)#6126, Fasting Blood Sugar > 120(mg/dl)#6140, Resting EKG#6154, Max Resting Heartrate#6168, Exercise Angina#7604, ST depression#5498, Slope of ST#5499, Number of vessels fluro#5500, Thallium#5501, CASE WHEN (Heart Disease#6236 = Absence) THEN cast(0 as string) ELSE Heart Disease#6236 END AS Heart Disease#7631]\n                                                   +- Project [Age#5489, Sex#5490, Blood Pressure(mm Hg)#6112, Cholesterol(mg/dl)#6126, Fasting Blood Sugar > 120(mg/dl)#6140, Resting EKG#6154, Max Resting Heartrate#6168, Exercise Angina#6182 AS Exercise Angina#7604, ST depression#5498, Slope of ST#5499, Number of vessels fluro#5500, Thallium#5501, Heart Disease#6236]\n                                                      +- Project [Age#5489, Sex#5490, Blood Pressure(mm Hg)#6112, Cholesterol(mg/dl)#6126, Fasting Blood Sugar > 120(mg/dl)#6140, Resting EKG#6154, Max Resting Heartrate#6168, Exercise Angina#6182, ST depression#5498, Slope of ST#5499, Number of vessels fluro#5500, Thallium#5501, CASE WHEN (Heart Disease#6209 = Presence) THEN cast(1 as string) ELSE Heart Disease#6209 END AS Heart Disease#6236]\n                                                         +- Project [Age#5489, Sex#5490, Blood Pressure(mm Hg)#6112, Cholesterol(mg/dl)#6126, Fasting Blood Sugar > 120(mg/dl)#6140, Resting EKG#6154, Max Resting Heartrate#6168, Exercise Angina#6182, ST depression#5498, Slope of ST#5499, Number of vessels fluro#5500, Thallium#5501, CASE WHEN (Heart Disease#5502 = Absence) THEN cast(0 as string) ELSE Heart Disease#5502 END AS Heart Disease#6209]\n                                                            +- Project [Age#5489, Sex#5490, Blood Pressure(mm Hg)#6112, Cholesterol(mg/dl)#6126, Fasting Blood Sugar > 120(mg/dl)#6140, Resting EKG#6154, Max Resting Heartrate#6168, Exercise angina#5497 AS Exercise Angina#6182, ST depression#5498, Slope of ST#5499, Number of vessels fluro#5500, Thallium#5501, Heart Disease#5502]\n                                                               +- Project [Age#5489, Sex#5490, Blood Pressure(mm Hg)#6112, Cholesterol(mg/dl)#6126, Fasting Blood Sugar > 120(mg/dl)#6140, Resting EKG#6154, Max HR#5496 AS Max Resting Heartrate#6168, Exercise angina#5497, ST depression#5498, Slope of ST#5499, Number of vessels fluro#5500, Thallium#5501, Heart Disease#5502]\n                                                                  +- Project [Age#5489, Sex#5490, Blood Pressure(mm Hg)#6112, Cholesterol(mg/dl)#6126, Fasting Blood Sugar > 120(mg/dl)#6140, EKG results#5495 AS Resting EKG#6154, Max HR#5496, Exercise angina#5497, ST depression#5498, Slope of ST#5499, Number of vessels fluro#5500, Thallium#5501, Heart Disease#5502]\n                                                                     +- Project [Age#5489, Sex#5490, Blood Pressure(mm Hg)#6112, Cholesterol(mg/dl)#6126, FBS over 120#5494 AS Fasting Blood Sugar > 120(mg/dl)#6140, EKG results#5495, Max HR#5496, Exercise angina#5497, ST depression#5498, Slope of ST#5499, Number of vessels fluro#5500, Thallium#5501, Heart Disease#5502]\n                                                                        +- Project [Age#5489, Sex#5490, Blood Pressure(mm Hg)#6112, Cholesterol#5493 AS Cholesterol(mg/dl)#6126, FBS over 120#5494, EKG results#5495, Max HR#5496, Exercise angina#5497, ST depression#5498, Slope of ST#5499, Number of vessels fluro#5500, Thallium#5501, Heart Disease#5502]\n                                                                           +- Project [Age#5489, Sex#5490, BP#5492 AS Blood Pressure(mm Hg)#6112, Cholesterol#5493, FBS over 120#5494, EKG results#5495, Max HR#5496, Exercise angina#5497, ST depression#5498, Slope of ST#5499, Number of vessels fluro#5500, Thallium#5501, Heart Disease#5502]\n                                                                              +- Project [Age#5489, Sex#5490, BP#5492, Cholesterol#5493, FBS over 120#5494, EKG results#5495, Max HR#5496, Exercise angina#5497, ST depression#5498, Slope of ST#5499, Number of vessels fluro#5500, Thallium#5501, Heart Disease#5502]\n                                                                                 +- Relation [Age#5489,Sex#5490,Chest pain type#5491,BP#5492,Cholesterol#5493,FBS over 120#5494,EKG results#5495,Max HR#5496,Exercise angina#5497,ST depression#5498,Slope of ST#5499,Number of vessels fluro#5500,Thallium#5501,Heart Disease#5502] csv\n"
          ]
        }
      ]
    },
    {
      "cell_type": "markdown",
      "source": [
        "The above column has been generated from the dataframe and called \"Features as vectors\" (Last column) which contains data points from all the columns for each individual."
      ],
      "metadata": {
        "id": "jn90xKo95qZJ"
      }
    },
    {
      "cell_type": "markdown",
      "source": [
        "## **Importing and Training Machine Learning Model**\n",
        "As this is a classification problem i.e a person has Heart Disease or not, we will be using the Logistic regression model."
      ],
      "metadata": {
        "id": "B5Cev1uS7KIU"
      }
    },
    {
      "cell_type": "code",
      "source": [
        "from pyspark.ml.classification import LogisticRegression"
      ],
      "metadata": {
        "id": "cuDszOlf7Et6"
      },
      "execution_count": 151,
      "outputs": []
    },
    {
      "cell_type": "code",
      "source": [
        "mldata=readyforml.select('Features as Vectors','Heart Disease')"
      ],
      "metadata": {
        "id": "IV-ZY7nj5OK4"
      },
      "execution_count": 173,
      "outputs": []
    },
    {
      "cell_type": "markdown",
      "source": [
        "We will train the model on a part of the \"Cardiac Health Dataset\" and test it on the remaining part. Then we will test the model on the FIC Heart Condtions\" Dataset."
      ],
      "metadata": {
        "id": "C_LPRB5I8Hgy"
      }
    },
    {
      "cell_type": "code",
      "source": [
        "trainingdata,testingdata=mldata.randomSplit([0.8,0.2])"
      ],
      "metadata": {
        "id": "1XOE9iL18CaJ"
      },
      "execution_count": 175,
      "outputs": []
    },
    {
      "cell_type": "code",
      "source": [
        "heartmodel=LogisticRegression(labelCol='Heart Disease',featuresCol=\"Features as Vectors\")"
      ],
      "metadata": {
        "id": "cv5Bu30W9d_S"
      },
      "execution_count": 178,
      "outputs": []
    },
    {
      "cell_type": "code",
      "source": [
        "hdp=heartmodel.fit(trainingdata)"
      ],
      "metadata": {
        "id": "apl3PpUL-hvO"
      },
      "execution_count": 179,
      "outputs": []
    },
    {
      "cell_type": "code",
      "source": [
        "summary=hdp.summary"
      ],
      "metadata": {
        "id": "3dIYlYrJ-ybW"
      },
      "execution_count": 180,
      "outputs": []
    },
    {
      "cell_type": "code",
      "source": [
        "summary.predictions.describe().show()"
      ],
      "metadata": {
        "colab": {
          "base_uri": "https://localhost:8080/"
        },
        "id": "IxDIxo8_BF67",
        "outputId": "79acb477-f6b4-4cbe-cec0-f1485fb26c01"
      },
      "execution_count": 182,
      "outputs": [
        {
          "output_type": "stream",
          "name": "stdout",
          "text": [
            "+-------+-------------------+------------------+\n",
            "|summary|      Heart Disease|        prediction|\n",
            "+-------+-------------------+------------------+\n",
            "|  count|                209|               209|\n",
            "|   mean|0.40669856459330145|0.3875598086124402|\n",
            "| stddev|0.49239710956457183|0.4883629221813441|\n",
            "|    min|                0.0|               0.0|\n",
            "|    max|                1.0|               1.0|\n",
            "+-------+-------------------+------------------+\n",
            "\n"
          ]
        }
      ]
    },
    {
      "cell_type": "markdown",
      "source": [
        "Testing Model on Test Part of Cardiac Health Dataset"
      ],
      "metadata": {
        "id": "HXf6WcegBSt_"
      }
    },
    {
      "cell_type": "code",
      "source": [],
      "metadata": {
        "id": "qLloXhn-BJhv"
      },
      "execution_count": null,
      "outputs": []
    }
  ]
}